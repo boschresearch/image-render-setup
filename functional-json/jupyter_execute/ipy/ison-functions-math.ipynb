{
 "cells": [
  {
   "attachments": {},
   "cell_type": "markdown",
   "metadata": {},
   "source": [
    "# Math Functions\n"
   ]
  },
  {
   "attachments": {},
   "cell_type": "markdown",
   "metadata": {},
   "source": [
    "## `sub` - Subtraction\n",
    "\n",
    "Calculates the difference of two scalar arguments."
   ]
  },
  {
   "cell_type": "code",
   "execution_count": 5,
   "metadata": {},
   "outputs": [
    {
     "name": "stdout",
     "output_type": "stream",
     "text": [
      "{\n",
      "    \"result\": 1\n",
      "}\n"
     ]
    }
   ],
   "source": [
    "import ison\n",
    "\n",
    "dicData = {\n",
    "    \"result\": \"$sub{3, 2}\"\n",
    "}\n",
    "\n",
    "dicResult = ison.run.Run(xData=dicData)\n",
    "print(ison.run.ToString(dicResult))\n"
   ]
  },
  {
   "attachments": {},
   "cell_type": "markdown",
   "metadata": {},
   "source": [
    "## `sum` - Summation\n",
    "\n",
    "Calculates the sum of all scalar arguments."
   ]
  },
  {
   "cell_type": "code",
   "execution_count": 1,
   "metadata": {},
   "outputs": [
    {
     "name": "stdout",
     "output_type": "stream",
     "text": [
      "{\n",
      "    \"result\": 6\n",
      "}\n"
     ]
    }
   ],
   "source": [
    "import ison\n",
    "\n",
    "dicData = {\n",
    "    \"result\": \"$sum{1, 2, 3}\"\n",
    "}\n",
    "\n",
    "dicResult = ison.run.Run(xData=dicData)\n",
    "print(ison.run.ToString(dicResult))\n"
   ]
  },
  {
   "attachments": {},
   "cell_type": "markdown",
   "metadata": {},
   "source": [
    "To sum all elements of a list, you need to unroll the list."
   ]
  },
  {
   "cell_type": "code",
   "execution_count": 4,
   "metadata": {},
   "outputs": [
    {
     "name": "stdout",
     "output_type": "stream",
     "text": [
      "{\n",
      "    \"result\": 6\n",
      "}\n"
     ]
    }
   ],
   "source": [
    "import ison\n",
    "\n",
    "dicData = {\n",
    "    \"__locals__\": {\n",
    "        \"lA\": [1, 2, 3]\n",
    "    },\n",
    "    \"result\": \"$sum{*$lA}\"\n",
    "}\n",
    "\n",
    "dicResult = ison.run.Run(xData=dicData)\n",
    "print(ison.run.ToString(dicResult))\n"
   ]
  },
  {
   "attachments": {},
   "cell_type": "markdown",
   "metadata": {},
   "source": [
    "## `prod` - Product\n",
    "\n",
    "Calculates the product of all scalar arguments."
   ]
  },
  {
   "cell_type": "code",
   "execution_count": 13,
   "metadata": {},
   "outputs": [
    {
     "name": "stdout",
     "output_type": "stream",
     "text": [
      "{\n",
      "    \"result\": 120\n",
      "}\n"
     ]
    }
   ],
   "source": [
    "import ison\n",
    "\n",
    "dicData = {\n",
    "    \"__locals__\": {\n",
    "        \"lA\": [1, 2, 3, 4, 5]\n",
    "    },\n",
    "    \"result\": \"$prod{*$lA}\"\n",
    "}\n",
    "\n",
    "dicResult = ison.run.Run(xData=dicData)\n",
    "print(ison.run.ToString(dicResult))\n"
   ]
  },
  {
   "attachments": {},
   "cell_type": "markdown",
   "metadata": {},
   "source": [
    "## `mod` - Modulo\n",
    "\n",
    "Calculates the modulo of two scalar arguments."
   ]
  },
  {
   "cell_type": "code",
   "execution_count": 11,
   "metadata": {},
   "outputs": [
    {
     "name": "stdout",
     "output_type": "stream",
     "text": [
      "{\n",
      "    \"result\": 2\n",
      "}\n"
     ]
    }
   ],
   "source": [
    "import ison\n",
    "\n",
    "dicData = {\n",
    "    \"result\": \"$mod{9, 7}\"\n",
    "}\n",
    "\n",
    "dicResult = ison.run.Run(xData=dicData)\n",
    "print(ison.run.ToString(dicResult))\n"
   ]
  },
  {
   "attachments": {},
   "cell_type": "markdown",
   "metadata": {},
   "source": [
    "## `rand.choice` - Select Randomly\n",
    "\n",
    "Randomly selects an element from a list or a dictionary."
   ]
  },
  {
   "cell_type": "code",
   "execution_count": 3,
   "metadata": {},
   "outputs": [
    {
     "name": "stdout",
     "output_type": "stream",
     "text": [
      "{\n",
      "    \"result 1\": 4,\n",
      "    \"result 2\": {\n",
      "        \"x\": 1\n",
      "    }\n",
      "}\n"
     ]
    }
   ],
   "source": [
    "import ison\n",
    "\n",
    "dicData = {\n",
    "    \"__locals__\": {\n",
    "        # Create a random generator instance\n",
    "        \"rndX\": \"$rand.generator{2}\",\n",
    "\n",
    "        \"lA\": [1, 2, 3, 4, 5],\n",
    "        \"dicA\": {\n",
    "            \"a\": { \"x\": 1 },\n",
    "            \"b\": { \"x\": 2 }\n",
    "        }\n",
    "    },\n",
    "    \n",
    "    \"result 1\": \"$rand.choice{$rndX, $lA}\",\n",
    "    \"result 2\": \"$rand.choice{$rndX, $dicA}\"\n",
    "}\n",
    "\n",
    "dicResult = ison.run.Run(xData=dicData)\n",
    "print(ison.run.ToString(dicResult))\n"
   ]
  },
  {
   "attachments": {},
   "cell_type": "markdown",
   "metadata": {},
   "source": [
    "## `rand.generator` - Create a random number generator instance\n",
    "\n",
    "This creates a random number generator internally, base on the given seed. The result of this function is a string, which can be used by other `rand.*` functions to reference this random number generator. The generator instance is unique to the parser class instance. If an already generated reference string is used in a new parser instance, the generator is re-created from the same seed.\n",
    "\n",
    "Use this function to ensure that the random values are deterministically dependent on the seed you give. This may not be the case if you are using a system wide random number generator, which may be influenced by external calls. Referencing a generator also has the advantage that the process order when parsing the ISON code does not have an effect on the outcome.\n",
    "\n",
    "Every `rand.*` function accepts as first, optional argument a random generator reference. If no random number generator reference is given, a default random number generator is used. However, note that the order of processing the random number functions will have an influence on the random values."
   ]
  },
  {
   "cell_type": "code",
   "execution_count": 1,
   "metadata": {},
   "outputs": [
    {
     "name": "stdout",
     "output_type": "stream",
     "text": [
      "{\n",
      "    \"result 1\": 0.9298913845803418,\n",
      "    \"result 2\": 0.9298913845803418\n",
      "}\n"
     ]
    }
   ],
   "source": [
    "import ison\n",
    "\n",
    "dicData = {\n",
    "    \"__locals__\": {\n",
    "        # Create two random number generators using strings as seeds.\n",
    "        # In this example we use the same seed for both generators.\n",
    "        # The generators will produce pseudo random values in th same order\n",
    "        # but do not influence each other.\n",
    "        \"rndA\": \"$rand.generator{gen 1}\",\n",
    "        \"rndB\": \"$rand.generator{gen 1}\",\n",
    "    },\n",
    "    \n",
    "    \"result 1\": \"$rand.uniform{$rndA, 0, 1}\",\n",
    "    \"result 2\": \"$rand.uniform{$rndB, 0, 1}\",\n",
    "}\n",
    "\n",
    "dicResult = ison.run.Run(xData=dicData)\n",
    "print(ison.run.ToString(dicResult))\n"
   ]
  },
  {
   "attachments": {},
   "cell_type": "markdown",
   "metadata": {},
   "source": [
    "## `rand.int` - Get Uniform Integer Random Number\n",
    "\n",
    "Returns an integer random number uniformly distributed in the range given by the two arguments. The minimum and maximum values are both included in the range."
   ]
  },
  {
   "cell_type": "code",
   "execution_count": 5,
   "metadata": {},
   "outputs": [
    {
     "name": "stdout",
     "output_type": "stream",
     "text": [
      "{\n",
      "    \"result\": 5\n",
      "}\n"
     ]
    }
   ],
   "source": [
    "import ison\n",
    "\n",
    "dicData = {\n",
    "    \"__locals__\": {\n",
    "        # Create a random generator instance\n",
    "        \"rndX\": \"$rand.generator{1}\",\n",
    "    },\n",
    "    \n",
    "    \"result\": \"$rand.int{$rndX, 3, 10}\"\n",
    "}\n",
    "\n",
    "dicResult = ison.run.Run(xData=dicData)\n",
    "print(ison.run.ToString(dicResult))\n"
   ]
  },
  {
   "attachments": {},
   "cell_type": "markdown",
   "metadata": {},
   "source": [
    "## `rand.sample` - Sample from Set\n",
    "\n",
    "Randomly sample a given number of elements from a list or dictionary. \n",
    "Parameters:\n",
    "1. (`list`|`dict`): list or dictionary from which to sample\n",
    "2. (`int`): number of samples to draw\n",
    "3. (`bool`): Flag whether to sample uniquely from source or not. Default is `true`."
   ]
  },
  {
   "cell_type": "code",
   "execution_count": 1,
   "metadata": {},
   "outputs": [
    {
     "name": "stdout",
     "output_type": "stream",
     "text": [
      "{\n",
      "    \"result 1\": [\n",
      "        2,\n",
      "        5,\n",
      "        1,\n",
      "        4\n",
      "    ],\n",
      "    \"result 2\": [\n",
      "        4,\n",
      "        5,\n",
      "        1,\n",
      "        5\n",
      "    ],\n",
      "    \"result 3\": [\n",
      "        2,\n",
      "        1,\n",
      "        4,\n",
      "        4,\n",
      "        4,\n",
      "        4,\n",
      "        1,\n",
      "        5,\n",
      "        2,\n",
      "        3\n",
      "    ]\n",
      "}\n"
     ]
    }
   ],
   "source": [
    "import ison\n",
    "\n",
    "dicData = {\n",
    "    \"__locals__\": {\n",
    "        # Create a random generator instance\n",
    "        \"rndX\": \"$rand.generator{2}\",\n",
    "\n",
    "        \"lA\": [1, 2, 3, 4, 5],\n",
    "        \"dicA\": {\n",
    "            \"a\": { \"x\": 1 },\n",
    "            \"b\": { \"x\": 2 }\n",
    "        }\n",
    "    },\n",
    "    \n",
    "    \"result 1\": \"$rand.sample{$rndX, $lA, 4}\",\n",
    "    \"result 2\": \"$rand.sample{$rndX, $lA, 4, false}\",\n",
    "    \"result 3\": \"$rand.sample{$rndX, $lA, 10, false}\",\n",
    "}\n",
    "\n",
    "dicResult = ison.run.Run(xData=dicData)\n",
    "print(ison.run.ToString(dicResult))\n"
   ]
  },
  {
   "cell_type": "code",
   "execution_count": 2,
   "metadata": {},
   "outputs": [
    {
     "name": "stdout",
     "output_type": "stream",
     "text": [
      "{\n",
      "    \"result 1\": {\n",
      "        \"b\": {\n",
      "            \"x\": 2\n",
      "        },\n",
      "        \"a\": {\n",
      "            \"x\": 1\n",
      "        },\n",
      "        \"c\": {\n",
      "            \"x\": 3\n",
      "        }\n",
      "    }\n",
      "}\n"
     ]
    }
   ],
   "source": [
    "import ison\n",
    "\n",
    "dicData = {\n",
    "    \"__locals__\": {\n",
    "        # Create a random generator instance\n",
    "        \"rndX\": \"$rand.generator{2}\",\n",
    "\n",
    "        \"dicA\": {\n",
    "            \"a\": { \"x\": 1 },\n",
    "            \"b\": { \"x\": 2 },\n",
    "            \"c\": { \"x\": 3 },\n",
    "            \"d\": { \"x\": 4 }\n",
    "        }\n",
    "    },\n",
    "    \n",
    "    \"result 1\": \"$rand.sample{$rndX, $dicA, 3}\",\n",
    "}\n",
    "\n",
    "dicResult = ison.run.Run(xData=dicData)\n",
    "print(ison.run.ToString(dicResult))\n"
   ]
  },
  {
   "attachments": {},
   "cell_type": "markdown",
   "metadata": {},
   "source": [
    "## `rand.sample_range` - Sample from Integer Range\n",
    "\n",
    "Randomly sample a given number of elements from an integer range. \n",
    "Parameters:\n",
    "1. (`int`): minimal integer value of range\n",
    "2. (`int`): maximal integer value of range\n",
    "3. (`int`): number of samples to draw\n",
    "4. (optional, `bool`): `unique=[true|false]`. Flag whether to sample uniquely from source or not. Default is `true`.\n",
    "5. (optional, `bool`): `consec-differ=[true|false]`. Flag whether consecutive values should differ (`true`) or not (`false`). Default is `false`. If the fourth parameter is `true`, this value is ignored."
   ]
  },
  {
   "cell_type": "code",
   "execution_count": 3,
   "metadata": {},
   "outputs": [
    {
     "name": "stdout",
     "output_type": "stream",
     "text": [
      "{\n",
      "    \"result 1\": [\n",
      "        2,\n",
      "        2,\n",
      "        1,\n",
      "        4,\n",
      "        4,\n",
      "        1\n",
      "    ],\n",
      "    \"result 2\": [\n",
      "        2,\n",
      "        1,\n",
      "        4,\n",
      "        1,\n",
      "        2,\n",
      "        3\n",
      "    ],\n",
      "    \"result 3\": [\n",
      "        5,\n",
      "        7,\n",
      "        9,\n",
      "        10,\n",
      "        12\n",
      "    ]\n",
      "}\n"
     ]
    }
   ],
   "source": [
    "import ison\n",
    "\n",
    "dicData = {\n",
    "    \"__locals__\": {\n",
    "        # Create a random generator instance\n",
    "        \"rndX\": \"$rand.generator{2}\",\n",
    "    },\n",
    "    \n",
    "    \"result 1\": \"$rand.sample_range{$rndX, 1, 4, 6, unique=false}\",\n",
    "    \"result 2\": \"$rand.sample_range{$rndX, 1, 4, 6, unique=false, consec-differ=true}\",\n",
    "    \"result 3\": \"$rand.sample_range{$rndX, 3, 12, 5}\",\n",
    "}\n",
    "\n",
    "dicResult = ison.run.Run(xData=dicData)\n",
    "print(ison.run.ToString(dicResult))\n"
   ]
  },
  {
   "attachments": {},
   "cell_type": "markdown",
   "metadata": {},
   "source": [
    "## `rand.seed` - Set Random Seed\n",
    "\n",
    "Sets the random seed for the following random value operations.\n",
    "\n",
    "**Note that the this function also seed the global random number generator, for backward compatibility.**"
   ]
  },
  {
   "cell_type": "code",
   "execution_count": 4,
   "metadata": {},
   "outputs": [
    {
     "name": "stdout",
     "output_type": "stream",
     "text": [
      "{\n",
      "    \"confirm_exec\": \":eval:rand.seed:[':eval:rand.generator(3054121613703434466):[3054121613703434466]', '3']\",\n",
      "    \"result\": 5.533265554575144\n",
      "}\n"
     ]
    }
   ],
   "source": [
    "import ison\n",
    "\n",
    "dicData = {\n",
    "    \"__locals__\": {\n",
    "        # Create a random generator instance\n",
    "        \"rndX\": \"$rand.generator{2}\",\n",
    "        # Seeding a random generator again is not necessary but possible.\n",
    "        \"do_seed\": \"$rand.seed{$rndX, 3}\",\n",
    "    },\n",
    "    \n",
    "    \"confirm_exec\": \"$do_seed\",\n",
    "    \"result\": \"$rand.uniform{3, 6}\"\n",
    "}\n",
    "\n",
    "dicResult = ison.run.Run(xData=dicData)\n",
    "print(ison.run.ToString(dicResult))\n"
   ]
  },
  {
   "attachments": {},
   "cell_type": "markdown",
   "metadata": {},
   "source": [
    "## `rand.uniform` - Get Uniform Random Number\n",
    "\n",
    "Returns a random number uniformly distributed in the range given by the two arguments."
   ]
  },
  {
   "cell_type": "code",
   "execution_count": 5,
   "metadata": {},
   "outputs": [
    {
     "name": "stdout",
     "output_type": "stream",
     "text": [
      "{\n",
      "    \"result\": 5.948865008965477\n",
      "}\n"
     ]
    }
   ],
   "source": [
    "import ison\n",
    "\n",
    "dicData = {\n",
    "    \"__locals__\": {\n",
    "        # Create a random generator instance\n",
    "        \"rndX\": \"$rand.generator{2}\",\n",
    "    },\n",
    "    \n",
    "    \"result\": \"$rand.uniform{$rndX, 3, 6}\"\n",
    "}\n",
    "\n",
    "dicResult = ison.run.Run(xData=dicData)\n",
    "print(ison.run.ToString(dicResult))\n"
   ]
  },
  {
   "attachments": {},
   "cell_type": "markdown",
   "metadata": {},
   "source": [
    "## `rand.zwicky` - Create Instance of Zwicky Box\n",
    "\n",
    "Return a random instance of a Zwicky box."
   ]
  },
  {
   "cell_type": "code",
   "execution_count": 2,
   "metadata": {},
   "outputs": [
    {
     "name": "stdout",
     "output_type": "stream",
     "text": [
      "{\n",
      "    \"result\": {\n",
      "        \"sA\": \"c\",\n",
      "        \"fValue\": 1.7868504406687737,\n",
      "        \"dicB\": {\n",
      "            \"iX\": 4,\n",
      "            \"lY\": [\n",
      "                3,\n",
      "                4\n",
      "            ]\n",
      "        }\n",
      "    }\n",
      "}\n"
     ]
    }
   ],
   "source": [
    "import ison\n",
    "\n",
    "dicData = {\n",
    "    \"__func_locals__\": {\n",
    "        # Define the zwicky box in __func_locals__ as lambda function, so that the\n",
    "        # element 'fValue' is only parsed, when the box is used.\n",
    "        # Pass in the random number generator reference as first lambda parameter.\n",
    "        \"box\": {\n",
    "            \"__lambda__\": {},\n",
    "            \"sA\": [ \"a\", \"b\", \"c\", \"d\", \"e\"],\n",
    "            \"fValue\": \"$rand.uniform{%0, 1, 2}\",\n",
    "            \"dicB\": {\n",
    "                \"iX\": [1, 2, 3, 4],\n",
    "                \"lY\": [[1, 2], [3, 4]]\n",
    "            }\n",
    "        }\n",
    "\n",
    "    },\n",
    "    \"__locals__\": {\n",
    "        # Create a random generator instance\n",
    "        \"rndX\": \"$rand.generator{2}\",\n",
    "\n",
    "    },\n",
    "    \n",
    "    \"result\": \"$rand.zwicky{$rndX, ${box, $rndX}}\"\n",
    "}\n",
    "\n",
    "dicResult = ison.run.Run(xData=dicData)\n",
    "print(ison.run.ToString(dicResult))\n"
   ]
  }
 ],
 "metadata": {
  "kernelspec": {
   "display_name": "Python 3.10.6 ('cath3')",
   "language": "python",
   "name": "python3"
  },
  "language_info": {
   "codemirror_mode": {
    "name": "ipython",
    "version": 3
   },
   "file_extension": ".py",
   "mimetype": "text/x-python",
   "name": "python",
   "nbconvert_exporter": "python",
   "pygments_lexer": "ipython3",
   "version": "3.10.10"
  },
  "vscode": {
   "interpreter": {
    "hash": "d144e52b91e679811e4cceb0036205285e180e4be0ba7d3643a3ec09e4fe9f87"
   }
  }
 },
 "nbformat": 4,
 "nbformat_minor": 2
}