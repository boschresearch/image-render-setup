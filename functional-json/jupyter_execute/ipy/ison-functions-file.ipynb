{
 "cells": [
  {
   "cell_type": "markdown",
   "metadata": {},
   "source": [
    "# File/Path Functions"
   ]
  },
  {
   "cell_type": "markdown",
   "metadata": {},
   "source": [
    "## `dir` - List Directory Contents\n",
    "\n",
    "`$dir{[glob pattern]}`\n",
    "\n",
    "Uses a glob pattern to list files in a directory.\n"
   ]
  },
  {
   "cell_type": "code",
   "execution_count": 10,
   "metadata": {},
   "outputs": [
    {
     "name": "stdout",
     "output_type": "stream",
     "text": [
      "{\n",
      "    \"result\": [\n",
      "        \"ison-basics.ipynb\",\n",
      "        \"ison-functions-convert.ipynb\",\n",
      "        \"ison-functions-file.ipynb\",\n",
      "        \"ison-functions-lambda.ipynb\",\n",
      "        \"ison-functions-logic.ipynb\",\n",
      "        \"ison-functions-math.ipynb\",\n",
      "        \"ison-functions-special.ipynb\",\n",
      "        \"ison-functions-string.ipynb\",\n",
      "        \"ison-functions-struct.ipynb\",\n",
      "        \"ison-lambda-calc.ipynb\",\n",
      "        \"ison-lambda.ipynb\"\n",
      "    ]\n",
      "}\n"
     ]
    }
   ],
   "source": [
    "import os\n",
    "import ison\n",
    "\n",
    "dicData = {\n",
    "    \"result\": \"$dir{*.ipynb}\"\n",
    "}\n",
    "\n",
    "dicResult = ison.run.Run(xData=dicData, sImportPath=os.curdir)\n",
    "print(ison.run.ToString(dicResult))\n"
   ]
  },
  {
   "cell_type": "markdown",
   "metadata": {},
   "source": [
    "## `path.*` - Path Components\n",
    "\n",
    "`$path.[sub-command 1].[sub-command 2].[...]{[filepath]}`\n",
    "\n",
    "The `path` sub-commands are applied from left to right, whereby each sub-command uses the result of the previous sub-command as input. For example, to get the name of the parent of a path, you can write `$path.parent.name{[path]}`.\n",
    "In the following the various sub-commands that are available are listed.\n"
   ]
  },
  {
   "cell_type": "markdown",
   "metadata": {},
   "source": [
    "### `path.info` - Path String Components\n",
    "\n",
    "`$path.info{[filepath]}`\n",
    "\n",
    "Split path into various parts.\n"
   ]
  },
  {
   "cell_type": "code",
   "execution_count": 13,
   "metadata": {},
   "outputs": [
    {
     "name": "stdout",
     "output_type": "stream",
     "text": [
      "{\n",
      "    \"result\": {\n",
      "        \"posix\": \"C:/Hello/World/to.day.txt\",\n",
      "        \"suffixes\": [\n",
      "            \".day\",\n",
      "            \".txt\"\n",
      "        ],\n",
      "        \"parents\": [\n",
      "            \"C:/Hello/World\",\n",
      "            \"C:/Hello\",\n",
      "            \"C:/\"\n",
      "        ],\n",
      "        \"name\": \"to.day.txt\",\n",
      "        \"stem\": \"to.day\"\n",
      "    }\n",
      "}\n"
     ]
    }
   ],
   "source": [
    "import ison\n",
    "\n",
    "dicData = {\n",
    "    \"__locals__\": {\n",
    "        \"sPath\": \"C:\\\\Hello\\\\World\\\\to.day.txt\"\n",
    "    },\n",
    "    \"result\": \"$path.info{$sPath}\"\n",
    "}\n",
    "\n",
    "dicResult = ison.run.Run(xData=dicData)\n",
    "print(ison.run.ToString(dicResult))\n"
   ]
  },
  {
   "cell_type": "markdown",
   "metadata": {},
   "source": [
    "### `path.name` - Path String Components\n",
    "\n",
    "`$path.name{[filepath]}`\n",
    "\n",
    "Obtain the 'name' part of a path.\n"
   ]
  },
  {
   "cell_type": "code",
   "execution_count": 14,
   "metadata": {},
   "outputs": [
    {
     "name": "stdout",
     "output_type": "stream",
     "text": [
      "{\n",
      "    \"result\": \"to.day.txt\"\n",
      "}\n"
     ]
    }
   ],
   "source": [
    "import ison\n",
    "\n",
    "dicData = {\n",
    "    \"__locals__\": {\n",
    "        \"sPath\": \"C:\\\\Hello\\\\World\\\\to.day.txt\"\n",
    "    },\n",
    "    \"result\": \"$path.name{$sPath}\"\n",
    "}\n",
    "\n",
    "dicResult = ison.run.Run(xData=dicData)\n",
    "print(ison.run.ToString(dicResult))\n"
   ]
  },
  {
   "cell_type": "markdown",
   "metadata": {},
   "source": [
    "### `path.parent` - Parent Path\n",
    "\n",
    "`$path.parent{[filepath]}`\n",
    "\n",
    "Obtain the parent path of the given path.\n"
   ]
  },
  {
   "cell_type": "code",
   "execution_count": 17,
   "metadata": {},
   "outputs": [
    {
     "name": "stdout",
     "output_type": "stream",
     "text": [
      "{\n",
      "    \"result 1\": \"C:/Hello/World\",\n",
      "    \"result 2\": \"C:/Hello\"\n",
      "}\n"
     ]
    }
   ],
   "source": [
    "import ison\n",
    "\n",
    "dicData = {\n",
    "    \"__locals__\": {\n",
    "        \"sPath\": \"C:\\\\Hello\\\\World\\\\to.day.txt\"\n",
    "    },\n",
    "    \"result 1\": \"$path.parent{$sPath}\",\n",
    "    \"result 2\": \"$path.parent.parent{$sPath}\"\n",
    "}\n",
    "\n",
    "dicResult = ison.run.Run(xData=dicData)\n",
    "print(ison.run.ToString(dicResult))\n"
   ]
  },
  {
   "cell_type": "markdown",
   "metadata": {},
   "source": [
    "### `path.parents` - Parent Path List\n",
    "\n",
    "`$path.parents{[filepath]}`\n",
    "\n",
    "Obtain the list of parent paths.\n"
   ]
  },
  {
   "cell_type": "code",
   "execution_count": 18,
   "metadata": {},
   "outputs": [
    {
     "name": "stdout",
     "output_type": "stream",
     "text": [
      "{\n",
      "    \"result\": [\n",
      "        \"C:/Hello/World\",\n",
      "        \"C:/Hello\",\n",
      "        \"C:/\"\n",
      "    ]\n",
      "}\n"
     ]
    }
   ],
   "source": [
    "import ison\n",
    "\n",
    "dicData = {\n",
    "    \"__locals__\": {\n",
    "        \"sPath\": \"C:\\\\Hello\\\\World\\\\to.day.txt\"\n",
    "    },\n",
    "    \"result\": \"$path.parents{$sPath}\",\n",
    "}\n",
    "\n",
    "dicResult = ison.run.Run(xData=dicData)\n",
    "print(ison.run.ToString(dicResult))\n"
   ]
  },
  {
   "cell_type": "markdown",
   "metadata": {},
   "source": [
    "### `path.parts` - Path Parts\n",
    "`$path.parts{[filepath]}`\n",
    "\n",
    "Split the path in a list of its parts.\n"
   ]
  },
  {
   "cell_type": "code",
   "execution_count": 19,
   "metadata": {},
   "outputs": [
    {
     "name": "stdout",
     "output_type": "stream",
     "text": [
      "{\n",
      "    \"result\": [\n",
      "        \"C:\\\\\",\n",
      "        \"Hello\",\n",
      "        \"World\",\n",
      "        \"to.day.txt\"\n",
      "    ]\n",
      "}\n"
     ]
    }
   ],
   "source": [
    "import ison\n",
    "\n",
    "dicData = {\n",
    "    \"__locals__\": {\n",
    "        \"sPath\": \"C:\\\\Hello\\\\World\\\\to.day.txt\"\n",
    "    },\n",
    "    \"result\": \"$path.parts{$sPath}\",\n",
    "}\n",
    "\n",
    "dicResult = ison.run.Run(xData=dicData)\n",
    "print(ison.run.ToString(dicResult))\n"
   ]
  },
  {
   "cell_type": "markdown",
   "metadata": {},
   "source": [
    "### `path.stem` - Path Stem\n",
    "`$path.stem{[filepath]}`\n",
    "\n",
    "Get the stem (name without suffix) of the last element in the path.\n"
   ]
  },
  {
   "cell_type": "code",
   "execution_count": 20,
   "metadata": {},
   "outputs": [
    {
     "name": "stdout",
     "output_type": "stream",
     "text": [
      "{\n",
      "    \"result\": \"to.day\"\n",
      "}\n"
     ]
    }
   ],
   "source": [
    "import ison\n",
    "\n",
    "dicData = {\n",
    "    \"__locals__\": {\n",
    "        \"sPath\": \"C:\\\\Hello\\\\World\\\\to.day.txt\"\n",
    "    },\n",
    "    \"result\": \"$path.stem{$sPath}\",\n",
    "}\n",
    "\n",
    "dicResult = ison.run.Run(xData=dicData)\n",
    "print(ison.run.ToString(dicResult))\n"
   ]
  },
  {
   "cell_type": "markdown",
   "metadata": {},
   "source": [
    "### `path.suffix` - Path Suffix\n",
    "`$path.suffix{[filepath]}`\n",
    "\n",
    "Get the suffix of the last element in the path.\n"
   ]
  },
  {
   "cell_type": "code",
   "execution_count": 21,
   "metadata": {},
   "outputs": [
    {
     "name": "stdout",
     "output_type": "stream",
     "text": [
      "{\n",
      "    \"result\": \".txt\"\n",
      "}\n"
     ]
    }
   ],
   "source": [
    "import ison\n",
    "\n",
    "dicData = {\n",
    "    \"__locals__\": {\n",
    "        \"sPath\": \"C:\\\\Hello\\\\World\\\\to.day.txt\"\n",
    "    },\n",
    "    \"result\": \"$path.suffix{$sPath}\",\n",
    "}\n",
    "\n",
    "dicResult = ison.run.Run(xData=dicData)\n",
    "print(ison.run.ToString(dicResult))\n"
   ]
  },
  {
   "cell_type": "markdown",
   "metadata": {},
   "source": [
    "### `path.suffixes` - Path Suffix\n",
    "`$path.suffixes{[filepath]}`\n",
    "\n",
    "Get the suffixes of the last element in the path.\n"
   ]
  },
  {
   "cell_type": "code",
   "execution_count": 22,
   "metadata": {},
   "outputs": [
    {
     "name": "stdout",
     "output_type": "stream",
     "text": [
      "{\n",
      "    \"result\": [\n",
      "        \".day\",\n",
      "        \".txt\"\n",
      "    ]\n",
      "}\n"
     ]
    }
   ],
   "source": [
    "import ison\n",
    "\n",
    "dicData = {\n",
    "    \"__locals__\": {\n",
    "        \"sPath\": \"C:\\\\Hello\\\\World\\\\to.day.txt\"\n",
    "    },\n",
    "    \"result\": \"$path.suffixes{$sPath}\",\n",
    "}\n",
    "\n",
    "dicResult = ison.run.Run(xData=dicData)\n",
    "print(ison.run.ToString(dicResult))\n"
   ]
  },
  {
   "cell_type": "markdown",
   "metadata": {},
   "source": [
    "## `read` - Read Text/JSON File\n",
    "\n",
    "`$read{[filepath]}`\n",
    "\n",
    "Read a text file as string or a JSON file as corresponding structure. Only files with suffix `.json`, `.json5` or `.ison` are interpreted as JSON files.\n"
   ]
  },
  {
   "cell_type": "code",
   "execution_count": 3,
   "metadata": {},
   "outputs": [
    {
     "name": "stdout",
     "output_type": "stream",
     "text": [
      "{\n",
      "    \"result\": \"A simple demo text,\\nwith a number\\nof lines.\\n\"\n",
      "}\n"
     ]
    }
   ],
   "source": [
    "import os\n",
    "import ison\n",
    "\n",
    "dicData = {\n",
    "    \"result\": \"$read{demo.txt}\"\n",
    "}\n",
    "\n",
    "dicResult = ison.run.Run(xData=dicData, sImportPath=os.curdir)\n",
    "print(ison.run.ToString(dicResult))\n"
   ]
  },
  {
   "cell_type": "markdown",
   "metadata": {},
   "source": [
    "Here is an example of reading a JSON file."
   ]
  },
  {
   "cell_type": "code",
   "execution_count": 1,
   "metadata": {},
   "outputs": [
    {
     "name": "stdout",
     "output_type": "stream",
     "text": [
      "{\n",
      "    \"result\": {\n",
      "        \"hello\": [\n",
      "            \"world\",\n",
      "            1\n",
      "        ]\n",
      "    }\n",
      "}\n"
     ]
    }
   ],
   "source": [
    "import os\n",
    "import ison\n",
    "\n",
    "dicData = {\n",
    "    \"result\": \"$read{demo.json}\"\n",
    "}\n",
    "\n",
    "dicResult = ison.run.Run(xData=dicData, sImportPath=os.curdir)\n",
    "print(ison.run.ToString(dicResult))\n"
   ]
  },
  {
   "attachments": {},
   "cell_type": "markdown",
   "metadata": {},
   "source": [
    "## `write` - Write Text/JSON File\n",
    "\n",
    "`$write{[filepath], [data], [create-path=[true|false]], [json-indent=[int]]}`\n",
    "\n",
    "Write a text or JSON file. The arguments `create-path` and `json-indent` are optional. By default no path is created and the json output is not indented. \n",
    "The function automatically creates a JSON file, if the given data is not a string independent of the filename extension.\n"
   ]
  },
  {
   "cell_type": "code",
   "execution_count": 2,
   "metadata": {},
   "outputs": [
    {
     "name": "stdout",
     "output_type": "stream",
     "text": [
      "{\n",
      "    \"result\": \"_output/demo_write.json\",\n",
      "    \"read output\": {\n",
      "        \"a\": 1,\n",
      "        \"b\": 2\n",
      "    }\n",
      "}\n"
     ]
    }
   ],
   "source": [
    "import os\n",
    "import ison\n",
    "\n",
    "dicData = {\n",
    "    \"__locals__\": {\n",
    "        \"dicA\": {\n",
    "            \"a\": 1,\n",
    "            \"b\": 2\n",
    "        }\n",
    "    },\n",
    "\n",
    "    \"result\": \"$write{_output/demo_write.json, $dicA, create-path=true, json-indent=4}\",\n",
    "\n",
    "    # Read the output file again. JSON files are automatically converted to objects.\n",
    "    \"read output\": \"$read{_output/demo_write.json}\"\n",
    "}\n",
    "\n",
    "# Set the import path for the parser,\n",
    "# so that the relative paths can be converted to absolute path.\n",
    "dicResult = ison.run.Run(xData=dicData, sImportPath=os.curdir)\n",
    "print(ison.run.ToString(dicResult))\n"
   ]
  },
  {
   "cell_type": "markdown",
   "metadata": {},
   "source": [
    "Write a text file."
   ]
  },
  {
   "cell_type": "code",
   "execution_count": 7,
   "metadata": {},
   "outputs": [
    {
     "name": "stdout",
     "output_type": "stream",
     "text": [
      "{\n",
      "    \"result\": \"_output/demo_write.txt\",\n",
      "    \"read output\": \"Hello World\"\n",
      "}\n"
     ]
    }
   ],
   "source": [
    "import os\n",
    "import ison\n",
    "\n",
    "dicData = {\n",
    "    \"__locals__\": {\n",
    "        \"sA\": \"Hello World\"  \n",
    "    },\n",
    "\n",
    "    \"result\": \"$write{_output/demo_write.txt, $sA, create-path=true}\",\n",
    "\n",
    "    # Read the output file again. JSON files are automatically converted to objects.\n",
    "    \"read output\": \"$read{_output/demo_write.txt}\"\n",
    "}\n",
    "\n",
    "# Set the import path for the parser,\n",
    "# so that the relative paths can be converted to absolute path.\n",
    "dicResult = ison.run.Run(xData=dicData, sImportPath=os.curdir)\n",
    "print(ison.run.ToString(dicResult))\n"
   ]
  }
 ],
 "metadata": {
  "kernelspec": {
   "display_name": "Python 3.10.6 ('cath3')",
   "language": "python",
   "name": "python3"
  },
  "language_info": {
   "codemirror_mode": {
    "name": "ipython",
    "version": 3
   },
   "file_extension": ".py",
   "mimetype": "text/x-python",
   "name": "python",
   "nbconvert_exporter": "python",
   "pygments_lexer": "ipython3",
   "version": "3.10.10"
  },
  "vscode": {
   "interpreter": {
    "hash": "d144e52b91e679811e4cceb0036205285e180e4be0ba7d3643a3ec09e4fe9f87"
   }
  }
 },
 "nbformat": 4,
 "nbformat_minor": 2
}