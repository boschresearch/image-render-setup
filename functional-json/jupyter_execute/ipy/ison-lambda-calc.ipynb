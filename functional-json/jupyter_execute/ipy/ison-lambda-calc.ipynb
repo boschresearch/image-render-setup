{
 "cells": [
  {
   "cell_type": "markdown",
   "metadata": {},
   "source": [
    "# Lambda Calculus (for geeks)\n",
    "\n",
    "If you are into maths, you may enjoy [$\\lambda$-calculus](https://en.wikipedia.org/wiki/Lambda_calculus). It's a calculus where all the elements are functions. It is also equivalent to a *Von-Neumann-Machine* and allows you, in principle, to perform any computation. In this chapter we will look at some [Church encodings](https://en.wikipedia.org/wiki/Church_encoding), which are $\\lambda$-function representations of boolean algebra, numbers, data storage, etc. \n",
    "\n",
    "Let`s start with something simple: **booleans**\n"
   ]
  },
  {
   "cell_type": "markdown",
   "metadata": {},
   "source": [
    "## Church Encoding: Booleans\n"
   ]
  },
  {
   "cell_type": "code",
   "execution_count": 1,
   "metadata": {},
   "outputs": [
    {
     "name": "stdout",
     "output_type": "stream",
     "text": [
      "{\n",
      "    \"x\": \"true\",\n",
      "    \"y\": \"false\"\n",
      "}\n"
     ]
    }
   ],
   "source": [
    "import ison\n",
    "\n",
    "dicData = {\n",
    "    \"__globals__\": {\n",
    "        \"eval\": \"$L{$!{%0, true, false}}\",\n",
    "        \"true\": \"$L{%0%~1}\",\n",
    "        \"false\": \"$L{%~0%1}\",\n",
    "    },\n",
    "    \"x\": \"${eval, ${true}}\",\n",
    "    \"y\": \"${eval, ${false}}\",\n",
    "}\n",
    "\n",
    "dicResult = ison.run.Run(xData=dicData)\n",
    "print(ison.run.ToString(dicResult))"
   ]
  },
  {
   "cell_type": "markdown",
   "metadata": {},
   "source": [
    "### Boolean AND\n",
    "\n",
    "All elements here are functions. Boolean *true* is represented by a $\\lambda$-function selecting the first value of two given arguments, and *false* is represented by a function selecting the second element. The function `eval` allows us to print the resultant effect of a construction with lambda functions. Any function that selects the first element, representes *true*, and if it selects the second element it represents *false*.\n",
    "\n",
    "We can use this basic setup to define boolean *and*,"
   ]
  },
  {
   "cell_type": "code",
   "execution_count": 2,
   "metadata": {},
   "outputs": [
    {
     "name": "stdout",
     "output_type": "stream",
     "text": [
      "{\n",
      "    \"result\": false\n",
      "}\n"
     ]
    }
   ],
   "source": [
    "import ison\n",
    "\n",
    "dicData = {\n",
    "    \"__func_globals__\": {\n",
    "        # Evaluation function\n",
    "        \"eval\": \"$L{$bool{$!{%0, true, false}}}\",\n",
    "        # Definition of 'true'\n",
    "        \"T\": \"$L{%0%~1}\",\n",
    "        # Definition of 'false'\n",
    "        \"F\": \"$L{%~0%1}\",\n",
    "        # The 'AND' function\n",
    "        # The '$!{}' explicitly evaluates a lambda function\n",
    "        \"and\": \"$L{$!{$!{%0, %1}, %0}}\",\n",
    "    },\n",
    "    \"result\": \"${eval, ${and, ${T}, ${F}} }\",\n",
    "}\n",
    "\n",
    "dicResult = ison.run.Run(xData=dicData)\n",
    "print(ison.run.ToString(dicResult))"
   ]
  },
  {
   "cell_type": "markdown",
   "metadata": {},
   "source": [
    "We can also define a whole dictionary as a lambda function. Executing this function processes all elements of the dictionary as lambda functions."
   ]
  },
  {
   "cell_type": "code",
   "execution_count": 3,
   "metadata": {},
   "outputs": [
    {
     "name": "stdout",
     "output_type": "stream",
     "text": [
      "{\n",
      "    \"result\": {\n",
      "        \"T and T\": true,\n",
      "        \"T and F\": false,\n",
      "        \"F and T\": false,\n",
      "        \"F and F\": false\n",
      "    }\n",
      "}\n"
     ]
    }
   ],
   "source": [
    "import ison\n",
    "\n",
    "dicData = {\n",
    "    \"__func_globals__\": {\n",
    "        # Evaluation function\n",
    "        \"eval\": \"$L{$bool{$!{%0, true, false}}}\",\n",
    "        # Define a dictionary that will be used a lambda function.\n",
    "        \"eval_all_bi\": { \"__lambda__\": {},\n",
    "            \"T %0 T\": \"${eval, $!{${%0}, ${T}, ${T}}}\",\n",
    "            \"T %0 F\": \"${eval, $!{${%0}, ${T}, ${F}}}\",\n",
    "            \"F %0 T\": \"${eval, $!{${%0}, ${F}, ${T}}}\",\n",
    "            \"F %0 F\": \"${eval, $!{${%0}, ${F}, ${F}}}\",\n",
    "        },\n",
    "        # Definition of 'true'\n",
    "        \"T\": \"$L{%0%~1}\",\n",
    "        # Definition of 'false'\n",
    "        \"F\": \"$L{%~0%1}\",\n",
    "        # The 'AND' function\n",
    "        # The '$!{}' explicitly evaluates a lambda function\n",
    "        \"and\": \"$L{$!{$!{%0, %1}, %0}}\",\n",
    "    },\n",
    "    # This calls the eval_all_bi dictionary lambda function\n",
    "    # with the 'and' function as argument.\n",
    "    \"result\": \"${eval_all_bi, and}\",\n",
    "}\n",
    "\n",
    "dicResult = ison.run.Run(xData=dicData)\n",
    "print(ison.run.ToString(dicResult))"
   ]
  },
  {
   "cell_type": "markdown",
   "metadata": {},
   "source": [
    "### Boolean OR"
   ]
  },
  {
   "cell_type": "code",
   "execution_count": 5,
   "metadata": {},
   "outputs": [
    {
     "name": "stdout",
     "output_type": "stream",
     "text": [
      "{\n",
      "    \"result\": {\n",
      "        \"T or T\": true,\n",
      "        \"T or F\": true,\n",
      "        \"F or T\": true,\n",
      "        \"F or F\": false\n",
      "    }\n",
      "}\n"
     ]
    }
   ],
   "source": [
    "import ison\n",
    "\n",
    "dicData = {\n",
    "    \"__func_globals__\": {\n",
    "        # Evaluation function\n",
    "        \"eval\": \"$L{$bool{$!{%0, true, false}}}\",\n",
    "        # Define a dictionary that will be used a lambda function.\n",
    "        \"eval_all_bi\": { \"__lambda__\": {},\n",
    "            \"T %0 T\": \"${eval, $!{${%0}, ${T}, ${T}}}\",\n",
    "            \"T %0 F\": \"${eval, $!{${%0}, ${T}, ${F}}}\",\n",
    "            \"F %0 T\": \"${eval, $!{${%0}, ${F}, ${T}}}\",\n",
    "            \"F %0 F\": \"${eval, $!{${%0}, ${F}, ${F}}}\",\n",
    "        },\n",
    "        # Definition of 'true'\n",
    "        \"T\": \"$L{%0%~1}\",\n",
    "        # Definition of 'false'\n",
    "        \"F\": \"$L{%~0%1}\",\n",
    "        # The 'AND' function\n",
    "        # The '$!{}' explicitly evaluates a lambda function\n",
    "        \"or\": \"$L{$!{$!{%0, %0}, %1}}\",\n",
    "    },\n",
    "    # This calls the eval_all_bi dictionary lambda function\n",
    "    # with the 'and' function as argument.\n",
    "    \"result\": \"${eval_all_bi, or}\",\n",
    "}\n",
    "\n",
    "dicResult = ison.run.Run(xData=dicData)\n",
    "print(ison.run.ToString(dicResult))"
   ]
  },
  {
   "cell_type": "markdown",
   "metadata": {},
   "source": [
    "### Boolean NOT"
   ]
  },
  {
   "cell_type": "code",
   "execution_count": 7,
   "metadata": {},
   "outputs": [
    {
     "name": "stdout",
     "output_type": "stream",
     "text": [
      "{\n",
      "    \"result\": {\n",
      "        \"not T\": false,\n",
      "        \"not F\": true\n",
      "    }\n",
      "}\n"
     ]
    }
   ],
   "source": [
    "import ison\n",
    "\n",
    "dicData = {\n",
    "    \"__func_globals__\": {\n",
    "        # Evaluation function\n",
    "        \"eval\": \"$L{$bool{$!{%0, true, false}}}\",\n",
    "        # Define a dictionary that will be used a lambda function.\n",
    "        \"def_eval_all_uni\": { \"__lambda__\": {},\n",
    "            \"%0 T\": \"${eval, $!{${%0}, ${T}}}\",\n",
    "            \"%0 F\": \"${eval, $!{${%0}, ${F}}}\",\n",
    "        },\n",
    "        # Definition of 'true'\n",
    "        \"T\": \"$L{%0%~1}\",\n",
    "        # Definition of 'false'\n",
    "        \"F\": \"$L{%~0%1}\",\n",
    "        # The 'NOT' function\n",
    "        # The '$!{}' explicitly evaluates a lambda function\n",
    "        \"not\": \"$L{$!{$!{%0, %2}, %1}}\",\n",
    "    },\n",
    "    # This calls the eval_all_bi dictionary lambda function\n",
    "    # with the 'and' function as argument.\n",
    "    \"result\": \"${def_eval_all_uni, not}\",\n",
    "}\n",
    "\n",
    "dicResult = ison.run.Run(xData=dicData)\n",
    "print(ison.run.ToString(dicResult))"
   ]
  },
  {
   "cell_type": "markdown",
   "metadata": {},
   "source": [
    "## Church Encoding: Numerals\n",
    "\n",
    "The functional representation of numerals basically encodes how often a function is applied. To show the result here, we define the function `f` as incrementing an integer by one."
   ]
  },
  {
   "cell_type": "code",
   "execution_count": 8,
   "metadata": {},
   "outputs": [
    {
     "name": "stdout",
     "output_type": "stream",
     "text": [
      "{\n",
      "    \"result\": {\n",
      "        \"func-one\": \"$L{$!{%0, $!{$!{$L{%~0%1}, %0}, %1}}}\",\n",
      "        \"func-two\": \"$L{$!{%0, $!{$!{$L{$!{%0, $!{$!{$L{%~0%1}, %0}, %1}}}, %0}, %1}}}\",\n",
      "        \"result\": \"0+1+1+1\",\n",
      "        \"x\": \"0+1+1\"\n",
      "    }\n",
      "}\n"
     ]
    }
   ],
   "source": [
    "import ison\n",
    "\n",
    "dicData = {\n",
    "    \"__globals__\": {\n",
    "        # evaluation function to see the effect\n",
    "        \"apply\": \"$L{%0+1}\",\n",
    "        \"zero\": \"$L{%~0%1}\",  # same as FALSE\n",
    "        # The successor operator\n",
    "        \"succ\": \"$L{$!{%1, $!{$!{%0, %1}, %2}}}\",\n",
    "        # 1 is the succesor of 0\n",
    "        \"one\": \"${succ, ${zero}}\",\n",
    "        # 2 is the succesor of 0\n",
    "        \"two\": \"${succ, ${one}}\",\n",
    "    },\n",
    "    \"result\": {\n",
    "        # This shows the lambda function result\n",
    "        \"func-one\": \"${succ, ${zero}}\",\n",
    "        \"func-two\": \"${succ, ${one}}\",\n",
    "        # The successor of 2 function applied to\n",
    "        # the 'apply' function starting at 0\n",
    "        \"result\": \"${succ, ${two}, ${apply}, 0}\",\n",
    "        # This demonstrates the effect of applying the\n",
    "        # apply function twice\n",
    "        \"x\": \"${apply, ${apply, 0}}\",\n",
    "    },\n",
    "}\n",
    "\n",
    "dicResult = ison.run.Run(xData=dicData)\n",
    "print(ison.run.ToString(dicResult))"
   ]
  },
  {
   "cell_type": "code",
   "execution_count": 9,
   "metadata": {},
   "outputs": [
    {
     "name": "stdout",
     "output_type": "stream",
     "text": [
      "{\n",
      "    \"result\": {\n",
      "        \"succ 0\": 1,\n",
      "        \"succ 1\": 2,\n",
      "        \"2 + 2\": 4\n",
      "    }\n",
      "}\n"
     ]
    }
   ],
   "source": [
    "import ison\n",
    "\n",
    "dicData = {\n",
    "    \"__globals__\": {\n",
    "        # apply function implements integer addition\n",
    "        \"apply\": \"$L{$sum{%0, 1}}\",\n",
    "        # The eval function applies the apply function\n",
    "        \"eval\": \"$L{$!{%0, ${apply}, 0}}\",\n",
    "        \"zero\": \"$L{%~0%1}\",  # same as FALSE\n",
    "        \"succ\": \"$L{$!{%1, $!{$!{%0, %1}, %2}}}\",\n",
    "        \"plus\": \"$L{$!{$!{%0, %2}, $!{$!{%1, %2}, %3}}}\",\n",
    "        \"one\": \"${succ, ${zero}}\",\n",
    "        \"two\": \"${succ, ${one}}\",\n",
    "    },\n",
    "    \"result\": {\n",
    "        \"succ 0\": \"${eval, ${one}}\",\n",
    "        \"succ 1\": \"${eval, ${two}}\",\n",
    "        \"2 + 2\": \"${eval, ${plus, ${two}, ${two}}}\",\n",
    "    },\n",
    "}\n",
    "\n",
    "dicResult = ison.run.Run(xData=dicData)\n",
    "print(ison.run.ToString(dicResult))"
   ]
  },
  {
   "cell_type": "markdown",
   "metadata": {},
   "source": [
    "## Church Encoding: Data Structures"
   ]
  },
  {
   "cell_type": "code",
   "execution_count": 10,
   "metadata": {},
   "outputs": [
    {
     "name": "stdout",
     "output_type": "stream",
     "text": [
      "{\n",
      "    \"result\": {\n",
      "        \"first\": \"1\",\n",
      "        \"second\": \"2\"\n",
      "    }\n",
      "}\n"
     ]
    }
   ],
   "source": [
    "import ison\n",
    "\n",
    "dicData = {\n",
    "    \"__globals__\": {\n",
    "        \"pair\": \"$L{$!{$!{%2, %0}, %1}}\",\n",
    "        \"first\": \"$L{$!{%0, $L{%0%~1}}}\",\n",
    "        \"second\": \"$L{$!{%0, $L{%~0%1}}}\",\n",
    "        \"data\": \"${pair, 1, 2}\",\n",
    "    },\n",
    "    \"result\": {\n",
    "        \"first\": \"${first, ${data}}\",\n",
    "        \"second\": \"${second, ${data}}\",\n",
    "    },\n",
    "}\n",
    "\n",
    "dicResult = ison.run.Run(xData=dicData)\n",
    "print(ison.run.ToString(dicResult))"
   ]
  }
 ],
 "metadata": {
  "kernelspec": {
   "display_name": "Python 3.10.6 ('cath3')",
   "language": "python",
   "name": "python3"
  },
  "language_info": {
   "codemirror_mode": {
    "name": "ipython",
    "version": 3
   },
   "file_extension": ".py",
   "mimetype": "text/x-python",
   "name": "python",
   "nbconvert_exporter": "python",
   "pygments_lexer": "ipython3",
   "version": "3.10.5"
  },
  "vscode": {
   "interpreter": {
    "hash": "d144e52b91e679811e4cceb0036205285e180e4be0ba7d3643a3ec09e4fe9f87"
   }
  }
 },
 "nbformat": 4,
 "nbformat_minor": 2
}