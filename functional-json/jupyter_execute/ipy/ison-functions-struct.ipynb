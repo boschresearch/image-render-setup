{
 "cells": [
  {
   "cell_type": "markdown",
   "metadata": {},
   "source": [
    "# Data Structure Functions"
   ]
  },
  {
   "cell_type": "markdown",
   "metadata": {},
   "source": [
    "## `enumerate` - Enumerate Lists\n",
    "\n",
    "Combines the elements of a list with their index.\n",
    "\n"
   ]
  },
  {
   "cell_type": "code",
   "execution_count": 6,
   "metadata": {},
   "outputs": [
    {
     "name": "stdout",
     "output_type": "stream",
     "text": [
      "{\n",
      "    \"result\": [\n",
      "        [\n",
      "            0,\n",
      "            \"a\"\n",
      "        ],\n",
      "        [\n",
      "            1,\n",
      "            \"b\"\n",
      "        ],\n",
      "        [\n",
      "            2,\n",
      "            \"c\"\n",
      "        ]\n",
      "    ]\n",
      "}\n"
     ]
    }
   ],
   "source": [
    "import ison\n",
    "\n",
    "dicData = {\n",
    "    \"__locals__\": {\n",
    "        \"lA\": [\"a\", \"b\", \"c\"],\n",
    "    },\n",
    "    \"result\": \"$enumerate{$lA}\",\n",
    "}\n",
    "\n",
    "dicResult = ison.run.Run(xData=dicData)\n",
    "print(ison.run.ToString(dicResult))\n"
   ]
  },
  {
   "cell_type": "markdown",
   "metadata": {},
   "source": [
    "This can be used in the context of the `$!foreach{}` function."
   ]
  },
  {
   "cell_type": "code",
   "execution_count": 7,
   "metadata": {},
   "outputs": [
    {
     "name": "stdout",
     "output_type": "stream",
     "text": [
      "{\n",
      "    \"result\": [\n",
      "        \"0: >a<\",\n",
      "        \"1: >b<\",\n",
      "        \"2: >c<\"\n",
      "    ]\n",
      "}\n"
     ]
    }
   ],
   "source": [
    "import ison\n",
    "\n",
    "dicData = {\n",
    "    \"__func_locals__\": {\n",
    "        \"func\": \"$L{%0: >%1<}\",\n",
    "    },\n",
    "\n",
    "    \"__locals__\": {\n",
    "        \"lA\": [\"a\", \"b\", \"c\"]\n",
    "    },\n",
    "\n",
    "    \"result\": \"$!foreach{$func, *$enumerate{$lA}}\",\n",
    "}\n",
    "\n",
    "dicResult = ison.run.Run(xData=dicData)\n",
    "print(ison.run.ToString(dicResult))\n"
   ]
  },
  {
   "cell_type": "markdown",
   "metadata": {},
   "source": [
    "## `group` - Group of lists combination\n",
    "\n",
    "Combine the elements of a number of lists w.r.t. their index in tuples. Especially useful in combination with the `$foreach{}` function.\n",
    "\n"
   ]
  },
  {
   "cell_type": "code",
   "execution_count": 8,
   "metadata": {},
   "outputs": [
    {
     "name": "stdout",
     "output_type": "stream",
     "text": [
      "{\n",
      "    \"result\": [\n",
      "        \"a: >1< - x\",\n",
      "        \"b: >2< - y\",\n",
      "        \"c: >3< - z\"\n",
      "    ]\n",
      "}\n"
     ]
    }
   ],
   "source": [
    "import ison\n",
    "\n",
    "dicData = {\n",
    "    \"__func_locals__\": {\n",
    "        \"func\": \"$L{%0: >%1< - %2}\",\n",
    "    },\n",
    "\n",
    "    \"__locals__\": {\n",
    "        \"lA\": [\"a\", \"b\", \"c\"],\n",
    "        \"lB\": [1,  2, 3],\n",
    "        \"lC\": [\"x\", \"y\", \"z\"]\n",
    "    },\n",
    "\n",
    "    \"result\": \"$!foreach{$func, *$group{$lA, $lB, $lC}}\",\n",
    "}\n",
    "\n",
    "dicResult = ison.run.Run(xData=dicData)\n",
    "print(ison.run.ToString(dicResult))\n"
   ]
  },
  {
   "cell_type": "markdown",
   "metadata": {},
   "source": [
    "## `range` - List of indices\n",
    "\n",
    "Generates a list of indices in the given range. Here are typical examples:\n",
    "\n",
    "- `$range{5}`: A list with 5 elements starting at 0, `[0, 1, 2, 3, 4]`\n",
    "- `$range{0, 5}`: A list with first element 0 and last element 5, `[0, 1, 2, 3, 4, 5]`\n",
    "- `$range{0, 5, 2}`: As above with increment 2, `[0, 2, 4]`\n"
   ]
  },
  {
   "cell_type": "code",
   "execution_count": 3,
   "metadata": {},
   "outputs": [
    {
     "name": "stdout",
     "output_type": "stream",
     "text": [
      "{\n",
      "    \"range(5)\": [\n",
      "        0,\n",
      "        1,\n",
      "        2,\n",
      "        3,\n",
      "        4\n",
      "    ],\n",
      "    \"range(0, 5)\": [\n",
      "        0,\n",
      "        1,\n",
      "        2,\n",
      "        3,\n",
      "        4,\n",
      "        5\n",
      "    ],\n",
      "    \"range(0, 5, 2)\": [\n",
      "        0,\n",
      "        2,\n",
      "        4\n",
      "    ]\n",
      "}\n"
     ]
    }
   ],
   "source": [
    "import ison\n",
    "\n",
    "dicData = {\n",
    "    \"range(5)\": \"$range{5}\",\n",
    "    \"range(0, 5)\": \"$range{0, 5}\",\n",
    "    \"range(0, 5, 2)\": \"$range{0, 5, 2}\"\n",
    "}\n",
    "\n",
    "dicResult = ison.run.Run(xData=dicData)\n",
    "print(ison.run.ToString(dicResult))\n"
   ]
  },
  {
   "cell_type": "markdown",
   "metadata": {},
   "source": [
    "## `sort` - Sort a List\n",
    "\n",
    "This sorts a list in ascending or descending order. The default is ascending order. If the second argument is `true`, the order is reversed.\n",
    "\n"
   ]
  },
  {
   "cell_type": "code",
   "execution_count": 2,
   "metadata": {},
   "outputs": [
    {
     "name": "stdout",
     "output_type": "stream",
     "text": [
      "{\n",
      "    \"result 1\": [\n",
      "        \"a\",\n",
      "        \"b\",\n",
      "        \"c\"\n",
      "    ],\n",
      "    \"result 2\": [\n",
      "        \"c\",\n",
      "        \"b\",\n",
      "        \"a\"\n",
      "    ]\n",
      "}\n"
     ]
    }
   ],
   "source": [
    "import ison\n",
    "\n",
    "dicData = {\n",
    "    \"__locals__\": {\n",
    "        \"lA\": [\"b\", \"a\", \"c\"],\n",
    "    },\n",
    "\n",
    "    \"result 1\": \"$sort{$lA}\",\n",
    "    \"result 2\": \"$sort{$lA, true}\",\n",
    "}\n",
    "\n",
    "dicResult = ison.run.Run(xData=dicData)\n",
    "print(ison.run.ToString(dicResult))\n"
   ]
  },
  {
   "cell_type": "markdown",
   "metadata": {},
   "source": [
    "## `union` - Union of lists or dictionaries\n",
    "\n",
    "This concatenates a group of lists into one list, or combines a group of dictionaries in a single one.\n",
    "\n"
   ]
  },
  {
   "cell_type": "code",
   "execution_count": 9,
   "metadata": {},
   "outputs": [
    {
     "name": "stdout",
     "output_type": "stream",
     "text": [
      "{\n",
      "    \"result\": [\n",
      "        \"a\",\n",
      "        \"b\",\n",
      "        \"c\",\n",
      "        1,\n",
      "        2,\n",
      "        3,\n",
      "        \"x\",\n",
      "        \"y\",\n",
      "        \"z\"\n",
      "    ]\n",
      "}\n"
     ]
    }
   ],
   "source": [
    "import ison\n",
    "\n",
    "dicData = {\n",
    "    \"__locals__\": {\n",
    "        \"lA\": [\"a\", \"b\", \"c\"],\n",
    "        \"lB\": [1,  2, 3],\n",
    "        \"lC\": [\"x\", \"y\", \"z\"]\n",
    "    },\n",
    "\n",
    "    \"result\": \"$union{$lA, $lB, $lC}\",\n",
    "}\n",
    "\n",
    "dicResult = ison.run.Run(xData=dicData)\n",
    "print(ison.run.ToString(dicResult))\n"
   ]
  },
  {
   "cell_type": "markdown",
   "metadata": {},
   "source": [
    "When using `union` on dictionaries, the order is also important, as the later dictionaries will overwrite elements of the previous dictionaries."
   ]
  },
  {
   "cell_type": "code",
   "execution_count": 4,
   "metadata": {},
   "outputs": [
    {
     "name": "stdout",
     "output_type": "stream",
     "text": [
      "{\n",
      "    \"result\": {\n",
      "        \"a\": 5,\n",
      "        \"b\": 2,\n",
      "        \"c\": 3,\n",
      "        \"x\": 4,\n",
      "        \"y\": 6\n",
      "    }\n",
      "}\n"
     ]
    }
   ],
   "source": [
    "import ison\n",
    "\n",
    "dicData = {\n",
    "    \"__locals__\": {\n",
    "        \"dicA\": {\"a\": 1, \"b\": 2, \"c\": 3},\n",
    "        \"dicB\": {\"x\": 4, \"a\": 5, \"y\": 6},\n",
    "    },\n",
    "\n",
    "    \"result\": \"$union{$dicA, $dicB}\",\n",
    "}\n",
    "\n",
    "dicResult = ison.run.Run(xData=dicData)\n",
    "print(ison.run.ToString(dicResult))\n"
   ]
  },
  {
   "attachments": {},
   "cell_type": "markdown",
   "metadata": {},
   "source": [
    "## `len` - Length of a List\n",
    "\n",
    "Gives the lenght of a list."
   ]
  },
  {
   "cell_type": "code",
   "execution_count": 1,
   "metadata": {},
   "outputs": [
    {
     "name": "stdout",
     "output_type": "stream",
     "text": [
      "{\n",
      "    \"result\": 3\n",
      "}\n"
     ]
    }
   ],
   "source": [
    "import ison\n",
    "\n",
    "dicData = {\n",
    "    \"__locals__\": {\n",
    "        \"lA\": [\"a\", \"b\", \"c\"]\n",
    "    },\n",
    "\n",
    "    \"result\": \"$len{$lA}\",\n",
    "}\n",
    "\n",
    "dicResult = ison.run.Run(xData=dicData)\n",
    "print(ison.run.ToString(dicResult))\n"
   ]
  },
  {
   "attachments": {},
   "cell_type": "markdown",
   "metadata": {},
   "source": [
    "## `circularselect` - List element selection based on modulo circle.\n",
    "\n",
    "Selects a list element based on a modulo circle. Cannot go out of bounds as long as the index is an integer."
   ]
  },
  {
   "cell_type": "code",
   "execution_count": 2,
   "metadata": {},
   "outputs": [
    {
     "name": "stdout",
     "output_type": "stream",
     "text": [
      "{\n",
      "    \"result1\": \"d\",\n",
      "    \"result2\": \"c\",\n",
      "    \"result3\": \"b\"\n",
      "}\n"
     ]
    }
   ],
   "source": [
    "import ison\n",
    "\n",
    "dicData = {\n",
    "    \"__locals__\": {\n",
    "        \"lA\": [\"a\", \"b\", \"c\", \"d\", \"e\"]\n",
    "    },\n",
    "\n",
    "    \"result1\": \"$circularselect{$lA, -2}\",\n",
    "    \"result2\": \"$circularselect{$lA, 2}\",\n",
    "    \"result3\": \"$circularselect{$lA, 11}\",\n",
    "}\n",
    "\n",
    "dicResult = ison.run.Run(xData=dicData)\n",
    "print(ison.run.ToString(dicResult))\n"
   ]
  }
 ],
 "metadata": {
  "kernelspec": {
   "display_name": "Python 3.10.6 ('cath3')",
   "language": "python",
   "name": "python3"
  },
  "language_info": {
   "codemirror_mode": {
    "name": "ipython",
    "version": 3
   },
   "file_extension": ".py",
   "mimetype": "text/x-python",
   "name": "python",
   "nbconvert_exporter": "python",
   "pygments_lexer": "ipython3",
   "version": "3.10.9"
  },
  "vscode": {
   "interpreter": {
    "hash": "d144e52b91e679811e4cceb0036205285e180e4be0ba7d3643a3ec09e4fe9f87"
   }
  }
 },
 "nbformat": 4,
 "nbformat_minor": 2
}