{
 "cells": [
  {
   "cell_type": "markdown",
   "metadata": {},
   "source": [
    "# String Functions"
   ]
  },
  {
   "cell_type": "markdown",
   "metadata": {},
   "source": [
    "## `join` - Join Strings\n",
    "\n",
    "Join strings with optional separator.\n"
   ]
  },
  {
   "cell_type": "code",
   "execution_count": 17,
   "metadata": {},
   "outputs": [
    {
     "name": "stdout",
     "output_type": "stream",
     "text": [
      "{\n",
      "    \"result 1\": \"abc\",\n",
      "    \"result 2\": \"a, b, c\"\n",
      "}\n"
     ]
    }
   ],
   "source": [
    "import ison\n",
    "\n",
    "dicData = {\n",
    "    \"__locals__\": {\n",
    "        \"lA\": [\"a\", \"b\", \"c\"]\n",
    "    },\n",
    "\n",
    "    \"result 1\": \"$join{$lA}\",\n",
    "    \"result 2\": \"$join{$lA, `, `}\",\n",
    "}\n",
    "\n",
    "dicResult = ison.run.Run(xData=dicData)\n",
    "print(ison.run.ToString(dicResult))\n"
   ]
  },
  {
   "cell_type": "markdown",
   "metadata": {},
   "source": [
    "## `str` - Formatted String\n",
    "\n",
    "Creates a formatted string of a value.\n",
    "\n"
   ]
  },
  {
   "cell_type": "code",
   "execution_count": 15,
   "metadata": {},
   "outputs": [
    {
     "name": "stdout",
     "output_type": "stream",
     "text": [
      "{\n",
      "    \"str{42, 04d}\": \"0042\",\n",
      "    \"str{42, 04x}\": \"002a\",\n",
      "    \"str{1.2345, 10.2f}\": \"      1.23\",\n",
      "    \"str{1.2345, 10.2e}\": \"  1.23e+00\",\n",
      "    \"str{1.2345, 10.2g}\": \"       1.2\",\n",
      "    \"str{a}\": \"{'a': 1}\"\n",
      "}\n"
     ]
    }
   ],
   "source": [
    "import ison\n",
    "\n",
    "dicData = {\n",
    "    \"__locals__\": {\n",
    "        \"dicA\": { \"a\": 1 }\n",
    "    },\n",
    "\n",
    "    \"str{42, 04d}\": \"$str{42, 04d}\",\n",
    "    \"str{42, 04x}\": \"$str{42, 04x}\",\n",
    "    \"str{1.2345, 10.2f}\": \"$str{1.2345, 10.2f}\",\n",
    "    \"str{1.2345, 10.2e}\": \"$str{1.2345, 10.2e}\",\n",
    "    \"str{1.2345, 10.2g}\": \"$str{1.2345, 10.2g}\",\n",
    "    \"str{$dicA}\": \"$str{$dicA}\"\n",
    "}\n",
    "\n",
    "dicResult = ison.run.Run(xData=dicData)\n",
    "print(ison.run.ToString(dicResult))\n"
   ]
  }
 ],
 "metadata": {
  "kernelspec": {
   "display_name": "Python 3.10.6 ('cath3')",
   "language": "python",
   "name": "python3"
  },
  "language_info": {
   "codemirror_mode": {
    "name": "ipython",
    "version": 3
   },
   "file_extension": ".py",
   "mimetype": "text/x-python",
   "name": "python",
   "nbconvert_exporter": "python",
   "pygments_lexer": "ipython3",
   "version": "3.10.6"
  },
  "vscode": {
   "interpreter": {
    "hash": "d144e52b91e679811e4cceb0036205285e180e4be0ba7d3643a3ec09e4fe9f87"
   }
  }
 },
 "nbformat": 4,
 "nbformat_minor": 2
}