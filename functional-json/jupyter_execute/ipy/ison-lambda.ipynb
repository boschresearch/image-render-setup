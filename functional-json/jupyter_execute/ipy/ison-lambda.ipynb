{
 "cells": [
  {
   "cell_type": "markdown",
   "metadata": {},
   "source": [
    "# Lambda Functions\n",
    "\n",
    "Since the ISON processor is based on replacing objects with other objects, **lambda**-functions are right around the corner. There are basically three additional language features needed to implement lambda functions:\n",
    "\n",
    "- A $\\lambda$-function scope is defined via `$L{}`. \n",
    "- The parameters of a $\\lambda$-function are denoted by `%[idx]`, where `[idx]` is the parameter's order index from left to right. For example, `%0` is the first parameter, `%1` the second, etc. You can also denote a parameter that is consumed by the function but not used, as `%~[idx]`. For example, use `%~0` to ignore the first parameter given. You may wonder what this feature could possibly be good for. Well, it is needed to implement [$\\lambda$-calculus](https://en.wikipedia.org/wiki/Lambda_calculus). \n",
    "- You can also defined named $\\lambda$-function arguments with the syntax `%[name]%`. \n",
    "- To execute a $\\lambda$-function, i.e. replace the placeholders `%i` with specific parameters, you have two possibilities:\n",
    "    1. explicit call via `$!{}`, or\n",
    "    2. implicit call via `${x, [arg 0], [arg 1], [named arg]=[value], [...]}`, where `x` is the reference to a $\\lambda$-function. \n",
    "\n",
    "The following examples will make the usage of $\\lambda$-functions clearer.\n"
   ]
  },
  {
   "cell_type": "markdown",
   "metadata": {},
   "source": [
    "## Basic Usage\n",
    "\n",
    "The following example demonstrates the basic syntax. The element `greet` is defined as a $\\lambda$-function in the global variable scope, so that we can access it directly via `${greet}`. The function argument is `%0`. Whatever is passed to the function as first argument is placed at the position of `%0`. \n",
    "\n",
    "We execute the $\\lambda$-function implicitly, by passing the arguments in the reference function `${}`.\n"
   ]
  },
  {
   "cell_type": "code",
   "execution_count": 1,
   "metadata": {},
   "outputs": [
    {
     "name": "stdout",
     "output_type": "stream",
     "text": [
      "{\n",
      "    \"say\": \"Hello Christian\"\n",
      "}\n"
     ]
    }
   ],
   "source": [
    "import ison\n",
    "\n",
    "dicData = {\n",
    "    \"__globals__\": {\n",
    "        \"greet\": \"$L{Hello %0}\",\n",
    "    },\n",
    "    \"say\": \"${greet, Christian}\",\n",
    "}\n",
    "\n",
    "dicResult = ison.run.Run(xData=dicData)\n",
    "print(ison.run.ToString(dicResult))"
   ]
  },
  {
   "attachments": {},
   "cell_type": "markdown",
   "metadata": {},
   "source": [
    "You can also pass nothing at all, which replaces the corresponding positional argument with an empty string. This can also be helpful, if you have a lambda function without any parameters, which you just want to execute, for example to execute some random number generator."
   ]
  },
  {
   "cell_type": "code",
   "execution_count": 13,
   "metadata": {},
   "outputs": [
    {
     "name": "stdout",
     "output_type": "stream",
     "text": [
      "{\n",
      "    \"say\": \"Value: 7\",\n",
      "    \"again\": \"Value next: 9\"\n",
      "}\n"
     ]
    }
   ],
   "source": [
    "import ison\n",
    "\n",
    "dicData = {\n",
    "    \"__globals__\": {\n",
    "        \"greet\": \"$L{Value%0: $rand.int{0,10}}\",\n",
    "    },\n",
    "    \"say\": \"${greet,}\",\n",
    "    \"again\": \"${greet, ` next`}\"\n",
    "}\n",
    "\n",
    "dicResult = ison.run.Run(xData=dicData)\n",
    "print(ison.run.ToString(dicResult))"
   ]
  },
  {
   "cell_type": "markdown",
   "metadata": {},
   "source": [
    "Alternatively, you can name the lambda function arguments with the syntax `%[name]%`, as shown in this example."
   ]
  },
  {
   "cell_type": "code",
   "execution_count": 1,
   "metadata": {},
   "outputs": [
    {
     "name": "stdout",
     "output_type": "stream",
     "text": [
      "{\n",
      "    \"say\": \"Hello  > Christian < \"\n",
      "}\n"
     ]
    }
   ],
   "source": [
    "import ison\n",
    "\n",
    "dicData = {\n",
    "    \"__globals__\": {\n",
    "        \"greet\": \"$L{Hello %who%}\",\n",
    "    },\n",
    "    # You can use `` to pass everything within the back quotes as argument\n",
    "    \"say\": \"${greet, who=` > Christian < `}\",\n",
    "}\n",
    "\n",
    "dicResult = ison.run.Run(xData=dicData)\n",
    "print(ison.run.ToString(dicResult))"
   ]
  },
  {
   "cell_type": "markdown",
   "metadata": {},
   "source": [
    "Note that a $\\lambda$-function text block is treated as a literal object until all arguments have been replaced by a function call. In the following example, the `${x}` is only replaced, once the $\\lambda$-function is fully evaluated. Here is an example,"
   ]
  },
  {
   "cell_type": "code",
   "execution_count": 3,
   "metadata": {},
   "outputs": [
    {
     "name": "stdout",
     "output_type": "stream",
     "text": [
      "{\n",
      "    \"say\": \"$L{`Hello %0, $x`}\",\n",
      "    \"again\": \"Hello Christian, let's go\"\n",
      "}\n"
     ]
    }
   ],
   "source": [
    "import ison\n",
    "\n",
    "dicData = {\n",
    "    \"__globals__\": {\n",
    "        \"x\": \"let's go\",\n",
    "        \"greet\": \"$L{`Hello %0, $x`}\",\n",
    "    },\n",
    "    \"say\": \"$greet\",\n",
    "    \"again\": \"${greet, Christian}\",\n",
    "}\n",
    "\n",
    "dicResult = ison.run.Run(xData=dicData)\n",
    "print(ison.run.ToString(dicResult))"
   ]
  },
  {
   "cell_type": "markdown",
   "metadata": {},
   "source": [
    "## Processing Lambda Arguments\n",
    "\n",
    "If a lambda argument is a data structure like a dictionary, you may want to process this further. Consider the following example,"
   ]
  },
  {
   "cell_type": "code",
   "execution_count": 1,
   "metadata": {},
   "outputs": [
    {
     "name": "stdout",
     "output_type": "stream",
     "text": [
      "{\n",
      "    \"result 1\": {\n",
      "        \"a\": 1,\n",
      "        \"b\": 2\n",
      "    },\n",
      "    \"result 2\": \"{\\\"a\\\": 1, \\\"b\\\": 2}:b\",\n",
      "    \"result 3\": 2\n",
      "}\n"
     ]
    }
   ],
   "source": [
    "import ison\n",
    "\n",
    "dicData = {\n",
    "    \"__func_globals__\": {\n",
    "        \"JustDict\": \"$L{%0}\",\n",
    "        \"AsString\": \"$L{%0:%1}\",\n",
    "        \"FromDict\": \"$L{${%0:%1}}\",\n",
    "    },\n",
    "    \"__locals__\": {\n",
    "        \"dicA\": {\n",
    "            \"a\": 1,\n",
    "            \"b\": 2,\n",
    "        }\n",
    "    },\n",
    "\n",
    "    \"result 1\": \"${JustDict, $dicA}\",\n",
    "    \"result 2\": \"${AsString, $dicA, b}\",\n",
    "    \"result 3\": \"${FromDict, $dicA, b}\",\n",
    "}\n",
    "\n",
    "dicResult = ison.run.Run(xData=dicData)\n",
    "print(ison.run.ToString(dicResult))"
   ]
  },
  {
   "cell_type": "markdown",
   "metadata": {},
   "source": [
    "- `JustDict`: since `%0` is the only element of the lambda function, the string result of this function can be converted to a JSON object. Therefore, the result is the *data structure* passed as argument. \n",
    "- `AsString`: because the resultant string after replacing the lambda arguments cannot be converted to a JSON object, and there is no additional `${}` structure that could be parsed, the result is the string created from `%0` and `%1`. \n",
    "- `FromDict`: because the resultant string after replacing the lambda arguments contains a `${}` element, this element is parsed again. During processing of `${}` the `:` is interpreted as an element access control symbol and so the string representation of just the `%0` lambda argument is converted to a JSON object, which is a dictionary. Then this dictionary is accessed with the content of `%1`, which results in 2."
   ]
  },
  {
   "cell_type": "markdown",
   "metadata": {},
   "source": [
    "## Lambdas of Lambdas\n",
    "\n",
    "The real power of $\\lambda$-functions comes from the fact, that also $\\lambda$-functions can be passed in as parameters and that they can be evaluated partially, resulting in a new $\\lambda$-function. "
   ]
  },
  {
   "cell_type": "code",
   "execution_count": 4,
   "metadata": {},
   "outputs": [
    {
     "name": "stdout",
     "output_type": "stream",
     "text": [
      "{\n",
      "    \"x\": \"Hello Christian\",\n",
      "    \"say\": \"Hello my dear Christian\"\n",
      "}\n"
     ]
    }
   ],
   "source": [
    "import ison\n",
    "\n",
    "dicData = {\n",
    "    \"__func_globals__\": {\n",
    "        \"polite\": \"$L{my dear %0}\",\n",
    "        \"greeting\": \"$L{Hello %0}\",\n",
    "        \"greet_polite\": \"${greeting, $polite}\",\n",
    "    },\n",
    "    \"x\": \"${greeting, Christian}\",\n",
    "    \"say\": \"${greet_polite, Christian}\",\n",
    "}\n",
    "\n",
    "dicResult = ison.run.Run(xData=dicData)\n",
    "print(ison.run.ToString(dicResult))"
   ]
  },
  {
   "cell_type": "markdown",
   "metadata": {},
   "source": [
    "## Dictionary Lambdas\n",
    "\n",
    "It is at times useful to have a whole dictionary that is regarded as a lambda function. That is, the result of the lambda function is a dictionary and the lambda paramters vary elements of that dictionary. Here is an example:"
   ]
  },
  {
   "cell_type": "code",
   "execution_count": 3,
   "metadata": {},
   "outputs": [
    {
     "name": "stdout",
     "output_type": "stream",
     "text": [
      "{\n",
      "    \"result\": {\n",
      "        \"a\": 1,\n",
      "        \"b\": \"2\"\n",
      "    }\n",
      "}\n"
     ]
    }
   ],
   "source": [
    "import ison\n",
    "\n",
    "dicData = {\n",
    "    \"__func_globals__\": {\n",
    "        \"L_Data\": {\n",
    "            # This line declares this dictionary to be a lambda function.\n",
    "            # It does not need to be the first entry, but this makes it clearer.\n",
    "            # The content of the '__lambda_' should be a dictionary, \n",
    "            # which is currently ignored.\n",
    "            \"__lambda__\": {},\n",
    "            # The remainder is the content of the lambda function\n",
    "            \"a\": \"$int{%0}\",\n",
    "            \"b\": \"%1\"\n",
    "        }\n",
    "    },\n",
    "    \"result\": \"${L_Data, 1, 2}\"\n",
    "}\n",
    "\n",
    "dicResult = ison.run.Run(xData=dicData)\n",
    "print(ison.run.ToString(dicResult))\n"
   ]
  },
  {
   "cell_type": "markdown",
   "metadata": {},
   "source": [
    "The lambda dictionary can also declare local and global variables or other lambda functions."
   ]
  },
  {
   "cell_type": "code",
   "execution_count": 5,
   "metadata": {},
   "outputs": [
    {
     "name": "stdout",
     "output_type": "stream",
     "text": [
      "{\n",
      "    \"result\": {\n",
      "        \"a\": 1\n",
      "    }\n",
      "}\n"
     ]
    }
   ],
   "source": [
    "import ison\n",
    "\n",
    "dicData = {\n",
    "    \"__func_globals__\": {\n",
    "        \"L_Data\": {\n",
    "            # This line declares this dictionary to be a lambda function.\n",
    "            \"__lambda__\": {},\n",
    "            # Variables declared within this dictionary\n",
    "            \"__locals__\": {\n",
    "                \"dicData\": \"%0\"\n",
    "            },\n",
    "            \"a\": \"${dicData:%1}\",\n",
    "        }\n",
    "    },\n",
    "    \"__locals__\": {\n",
    "        \"dicA\": {\n",
    "            \"x\": 1,\n",
    "            \"y\": 2\n",
    "        }\n",
    "    },\n",
    "    \"result\": \"${L_Data, ${dicA}, x}\"\n",
    "}\n",
    "\n",
    "dicResult = ison.run.Run(xData=dicData, bPrintWarnings=True)\n",
    "print(ison.run.ToString(dicResult))\n"
   ]
  },
  {
   "cell_type": "markdown",
   "metadata": {},
   "source": [
    "## List Lambdas\n",
    "\n",
    "Lists can also be declared as lambda functions, by making their first entry `__lambda__`, as in this example:"
   ]
  },
  {
   "cell_type": "code",
   "execution_count": 6,
   "metadata": {},
   "outputs": [
    {
     "name": "stdout",
     "output_type": "stream",
     "text": [
      "{\n",
      "    \"result\": [\n",
      "        \"2\",\n",
      "        \"1\"\n",
      "    ]\n",
      "}\n"
     ]
    }
   ],
   "source": [
    "import ison\n",
    "\n",
    "dicData = {\n",
    "    \"__func_globals__\": {\n",
    "        \"L_Data\": [ \n",
    "            # This line declares this dictionary to be a lambda function.\n",
    "            # For a list, this needs to be the first entry.\n",
    "            \"__lambda__\",\n",
    "            # The remainder is the content of the lambda function\n",
    "            \"%1\", \"%0\"\n",
    "        ]\n",
    "    },\n",
    "    \"result\": \"${L_Data, 1, 2}\"\n",
    "}\n",
    "\n",
    "dicResult = ison.run.Run(xData=dicData)\n",
    "print(ison.run.ToString(dicResult))\n"
   ]
  }
 ],
 "metadata": {
  "kernelspec": {
   "display_name": "Python 3.10.6 ('cath3')",
   "language": "python",
   "name": "python3"
  },
  "language_info": {
   "codemirror_mode": {
    "name": "ipython",
    "version": 3
   },
   "file_extension": ".py",
   "mimetype": "text/x-python",
   "name": "python",
   "nbconvert_exporter": "python",
   "pygments_lexer": "ipython3",
   "version": "3.10.5"
  },
  "vscode": {
   "interpreter": {
    "hash": "d144e52b91e679811e4cceb0036205285e180e4be0ba7d3643a3ec09e4fe9f87"
   }
  }
 },
 "nbformat": 4,
 "nbformat_minor": 2
}