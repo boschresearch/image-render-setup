{
 "cells": [
  {
   "cell_type": "markdown",
   "metadata": {},
   "source": [
    "# Basic Usage\n",
    "\n",
    "The parser is part of the Python module `ison` and is simply imported with the command `import ison`."
   ]
  },
  {
   "cell_type": "markdown",
   "metadata": {},
   "source": [
    "## Error Messages\n",
    "\n",
    "The following example shows how to print out an error message of the ISON parser and then we will look at how to interpret it. "
   ]
  },
  {
   "cell_type": "code",
   "execution_count": 5,
   "metadata": {},
   "outputs": [
    {
     "name": "stdout",
     "output_type": "stream",
     "text": [
      "Error running ISON parser:\n",
      " 1> Error parsing '__locals__'\n",
      " 2> Error parsing variable 'iA'\n",
      " 3> String: $sum{1, a}\n",
      " 4> String element: >>$sum{1, a}<<\n",
      " 5> Function '$sum{}' with 2 argument(s):\n",
      "  |   0: 1\n",
      "  |   1: a\n",
      " 6> Function '$sum{}': Error converting list of summation elements to 'float': could not convert string to float: 'a'\n",
      "\n"
     ]
    }
   ],
   "source": [
    "import ison\n",
    "\n",
    "dicData = {\n",
    "    \"__locals__\": {\n",
    "        # Error here, because 'a' cannot be added to a number\n",
    "        \"iA\": \"$sum{1, a}\"\n",
    "    },\n",
    "    \"result\": \"${iA}\"\n",
    "}\n",
    "\n",
    "# Use a try-except block to catch error exceptions and print them.\n",
    "try:\n",
    "    dicResult = ison.run.Run(xData=dicData, bStripVars=False)\n",
    "    print(ison.run.ToString(dicResult))\n",
    "except Exception as xEx:\n",
    "    print(str(xEx))\n",
    "# endtry"
   ]
  },
  {
   "cell_type": "markdown",
   "metadata": {},
   "source": [
    "This error output shows the parsing steps until the error occured. Since the object that is parsed need not be related to a JSON file, no line numbers can be output, to show where the error occurred. Instead, the parsing steps are shown, so you can follow them to understand where and in which context the error occurred. In this example the steps are:\n",
    "\n",
    "1. The `__locals__` variables are parsed\n",
    "2. The element `iA` of the `__locals__`dictionary is parsed\n",
    "3. The element `iA` results in the an object of type `string`, with the content `$sum{1, a}`\n",
    "4. With this string all variables and functions of type `$[...]{[...]}` are parsed. The element parsed in this instance is the only variable element in this string, which is `$sum{1, a}`.\n",
    "5. The function `$sum{}` is called with the arguments as shown.\n",
    "6. The function `$sum{}` raises the error, because not all elements can be converted to `float`. In particular, it is element `a` that cannot be converted.\n",
    "\n",
    "These error outputs can become quite long, but they help to find the error, especially in cases of multiply nested references. "
   ]
  },
  {
   "cell_type": "markdown",
   "metadata": {},
   "source": [
    "## Warnings\n",
    "\n",
    "One *feature* of ISON is, that undefined variables do not cause an error. The idea is, that as much is parsed as possible at the moment, so that the remainder can be parsed when the currently unknown variables are defined. However, this behaviour an lead to errors that are caused by undefined variables, but which are not reported as such. For these cases, the ISON parser also outputs *warnings* for those variables that were accessed but are undefined. If an error is thrown, these warnings are added to the error message. If no error is thrown, the warnings can be accessed from the parser object or printed by setting a flag in the call to `Run()`. Here is an example,"
   ]
  },
  {
   "cell_type": "code",
   "execution_count": 6,
   "metadata": {},
   "outputs": [
    {
     "name": "stderr",
     "output_type": "stream",
     "text": [
      "WARNINGS:\n",
      "Undefined variable 'iA'\n",
      "| 1: dict\n",
      "| 2: [result]\n",
      "| 3: ${iA}\n",
      "\n"
     ]
    },
    {
     "name": "stdout",
     "output_type": "stream",
     "text": [
      "{\n",
      "    \"result\": \"${iA}\"\n",
      "}\n"
     ]
    }
   ],
   "source": [
    "import ison\n",
    "\n",
    "dicData = {\n",
    "    \"result\": \"${iA}\"\n",
    "}\n",
    "\n",
    "try:\n",
    "    dicResult = ison.run.Run(xData=dicData, bPrintWarnings=True)\n",
    "    print(ison.run.ToString(dicResult))\n",
    "\n",
    "except Exception as xEx:\n",
    "    print(str(xEx))\n",
    "# endtry"
   ]
  },
  {
   "cell_type": "markdown",
   "metadata": {},
   "source": [
    "Here is an example of an error that also outputs the warnings about undefined variables."
   ]
  },
  {
   "cell_type": "code",
   "execution_count": 7,
   "metadata": {},
   "outputs": [
    {
     "name": "stdout",
     "output_type": "stream",
     "text": [
      "Error running ISON parser:\n",
      " 1> Dictionary element 'result' -> string\n",
      " 2> String: ${dicA:a}\n",
      " 3> String element: >>${dicA:a}<<\n",
      " 4> Function '${}' with 1 argument(s):\n",
      "  |   0: dicA:a\n",
      " 5> Referencing variables with:\n",
      "  | > 0: dicA\n",
      "  |   1: a\n",
      " 6> Referencing dictionary element 'dicA' with:\n",
      "  | > 0: a\n",
      " 7> String result '${dicB}' cannot have further specialization 'a': dicA:>>a<<\n",
      "\n",
      "Also consider these WARNING(s):\n",
      "Undefined variable 'dicB'\n",
      "| 1: __locals__\n",
      "| 2: var: dicA\n",
      "| 3: ${dicB}\n",
      "\n",
      "\n"
     ]
    }
   ],
   "source": [
    "import ison\n",
    "\n",
    "dicData = {\n",
    "    \"__locals__\": {\n",
    "        \"dicA\": \"${dicB}\"\n",
    "    },\n",
    "    # Undefined variable 'iA'\n",
    "    \"result\": \"${dicA:a}\"\n",
    "}\n",
    "\n",
    "try:\n",
    "    dicResult = ison.run.Run(xData=dicData, bPrintWarnings=True)\n",
    "    print(ison.run.ToString(dicResult))\n",
    "\n",
    "except Exception as xEx:\n",
    "    print(str(xEx))\n",
    "# endtry"
   ]
  },
  {
   "cell_type": "markdown",
   "metadata": {},
   "source": [
    "## Logging & Print Debugging\n",
    "\n",
    "Sometimes it is helpful to print the state of variables during parsing, or to log parsed values. This can be done with the functions `$print{}` and `$set-log-path{}`. If no logging path or file is defined with the latter, the former prints to stdout. If a path to a logging file is set, `$print{}` writes to the log file. \n"
   ]
  },
  {
   "cell_type": "code",
   "execution_count": 9,
   "metadata": {},
   "outputs": [
    {
     "name": "stdout",
     "output_type": "stream",
     "text": [
      "Variable 'dicA':\n",
      "{\n",
      "    \"Hello\": \"World\"\n",
      "}\n",
      "['Hello', 'World']\n",
      "{\n",
      "    \"result\": {\n",
      "        \"Hello\": \"World\"\n",
      "    }\n",
      "}\n"
     ]
    }
   ],
   "source": [
    "import ison\n",
    "\n",
    "dicData = {\n",
    "    \"__locals__\": {\n",
    "        \"lA\": [\"Hello\", \"World\"],\n",
    "        \"dicA\": { \"Hello\": \"World\" },\n",
    "        \"sLog\": \"$print{Variable 'dicA':, $json{$dicA}, $lA}\"\n",
    "    },\n",
    "    \"result\": \"$dicA\"\n",
    "}\n",
    "\n",
    "try:\n",
    "    dicResult = ison.run.Run(xData=dicData, bPrintWarnings=True)\n",
    "    print(ison.run.ToString(dicResult))\n",
    "\n",
    "except Exception as xEx:\n",
    "    print(str(xEx))\n",
    "# endtry"
   ]
  },
  {
   "cell_type": "markdown",
   "metadata": {},
   "source": [
    "You can set a logging path in three ways with `$set-log-path{}`:\n",
    "\n",
    "1. Without arguments the current working directory is used a logging path and a filename is automatically generated.\n",
    "2. Give a path without filename. In this case, a filename is automatically generated and the path is created.\n",
    "3. Give a full filepath. If the path does not exist, it is created.\n"
   ]
  },
  {
   "cell_type": "code",
   "execution_count": 10,
   "metadata": {},
   "outputs": [
    {
     "name": "stdout",
     "output_type": "stream",
     "text": [
      "{\n",
      "    \"result\": {\n",
      "        \"Hello\": \"World\"\n",
      "    }\n",
      "}\n"
     ]
    }
   ],
   "source": [
    "import ison\n",
    "\n",
    "dicData = {\n",
    "    \"__locals__\": {\n",
    "        \"sLogPath\": \"$set-log-path{}\",\n",
    "        \"dicA\": { \"Hello\": \"World\" },\n",
    "        \"sLog\": \"$print{Variable 'dicA':, $json{$dicA}, }\"\n",
    "    },\n",
    "    # Uncomment the following line to see the path of the log file\n",
    "    # in the printed output.\n",
    "    # \"log-path\": \"${sLogPath}\",\n",
    "    \"result\": \"$dicA\"\n",
    "}\n",
    "\n",
    "try:\n",
    "    dicResult = ison.run.Run(xData=dicData, bPrintWarnings=True)\n",
    "    print(ison.run.ToString(dicResult))\n",
    "\n",
    "except Exception as xEx:\n",
    "    print(str(xEx))\n",
    "# endtry"
   ]
  }
 ],
 "metadata": {
  "kernelspec": {
   "display_name": "Python 3.10.6 ('cath3')",
   "language": "python",
   "name": "python3"
  },
  "language_info": {
   "codemirror_mode": {
    "name": "ipython",
    "version": 3
   },
   "file_extension": ".py",
   "mimetype": "text/x-python",
   "name": "python",
   "nbconvert_exporter": "python",
   "pygments_lexer": "ipython3",
   "version": "3.10.10"
  },
  "orig_nbformat": 4,
  "vscode": {
   "interpreter": {
    "hash": "d144e52b91e679811e4cceb0036205285e180e4be0ba7d3643a3ec09e4fe9f87"
   }
  }
 },
 "nbformat": 4,
 "nbformat_minor": 2
}
