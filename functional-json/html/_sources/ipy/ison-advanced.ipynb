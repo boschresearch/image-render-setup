{
 "cells": [
  {
   "cell_type": "markdown",
   "metadata": {},
   "source": [
    "# Advanced Features\n",
    "\n",
    "In this section, advanced ISON language features are described."
   ]
  },
  {
   "attachments": {},
   "cell_type": "markdown",
   "metadata": {},
   "source": [
    "## Runtime Variables\n",
    "\n",
    "These types of variables are declared in a dictionary block with the tag `__runtime_vars__`. Runtime variables are available just like global variables. However, they are not stored in the resultant dictionary itself, but only in the parser instance. This can be useful, if you need to read in a large file but only pick a small part from this file per configuration. In this case, you don't want to copy the full data set to the resultant dictionary."
   ]
  },
  {
   "cell_type": "code",
   "execution_count": 4,
   "metadata": {},
   "outputs": [
    {
     "name": "stdout",
     "output_type": "stream",
     "text": [
      "{\n",
      "    \"iResult\": 40,\n",
      "    \"__globals__\": {},\n",
      "    \"__func_globals__\": {}\n",
      "}\n"
     ]
    }
   ],
   "source": [
    "import ison\n",
    "\n",
    "dicData = {\n",
    "    \"__runtime_vars__\": {\n",
    "        \"my_large_data\": \"$range{100}\",\n",
    "    },\n",
    "\n",
    "    \"iResult\": \"${my_large_data:40}\",\n",
    "}\n",
    "\n",
    "dicResult = ison.run.Run(xData=dicData, bStripVars=False)\n",
    "print(ison.run.ToString(dicResult))"
   ]
  },
  {
   "cell_type": "markdown",
   "metadata": {},
   "source": [
    "## Including Files\n",
    "\n",
    "Additional ISON or JSON files can be included using the `__includes__` language feature. \n",
    "This must be the key of a JSON dictionary, and its' value must be a list of strings, specifying file paths. \n",
    "If the filepaths are not absolute paths, they are regarded relative to the include statement's file. \n",
    "The parser will ensure that cyclic includes are detected and cause an error.\n",
    "\n",
    "The `__includes__` element of a dictionary causes the parser to load all files in the order given in the list\n",
    "and update the parent dictionary with the elements of the loaded JSON files. The processing order is as follows:\n",
    "\n",
    "1.  If an `__includes__` element is defined, load all includes and update the current dictionary.\n",
    "2.  All variables declared in the dictionary are processed.\n",
    "3.  If any of the variable declaration dictionaries hase an `__includes__` element\n",
    "    these are included and applied to the respective variable dictionary.\n",
    "4.  Any variables added by including the additional files are processed.\n",
    "\n",
    "This means, \n",
    "\n",
    "- you can add an `__includes__` statement inside a variable declaration dictionary like `__globals__` \n",
    "to load additional variable definitions,\n",
    "- if you are using ISON variables in the include file paths, they must have been defined outside the current dictionary.\n",
    "\n",
    "Here are some examples."
   ]
  },
  {
   "cell_type": "code",
   "execution_count": 4,
   "metadata": {},
   "outputs": [
    {
     "name": "stdout",
     "output_type": "stream",
     "text": [
      "{\n",
      "    \"hello\": [\n",
      "        \"world\",\n",
      "        1\n",
      "    ]\n",
      "}\n"
     ]
    }
   ],
   "source": [
    "import ison\n",
    "from pathlib import Path\n",
    "\n",
    "dicData = {\n",
    "    # This loads the file 'demo.json' from the same folder.\n",
    "    # 'demo.json' contains this:\n",
    "    # {\n",
    "    #     \"hello\": [\"world\", 1]\n",
    "    # }\n",
    "\n",
    "    \"__includes__\": [\"demo\"],\n",
    "}\n",
    "\n",
    "dicResult = ison.run.Run(xData=dicData, bStripVars=True, sImportPath=Path.cwd())\n",
    "print(ison.run.ToString(dicResult))"
   ]
  },
  {
   "cell_type": "markdown",
   "metadata": {},
   "source": [
    "In the following example, the 'demo.json' file is used as local variables definition."
   ]
  },
  {
   "cell_type": "code",
   "execution_count": 6,
   "metadata": {},
   "outputs": [
    {
     "name": "stdout",
     "output_type": "stream",
     "text": [
      "{\n",
      "    \"__locals__\": {\n",
      "        \"hello\": [\n",
      "            \"world\",\n",
      "            1\n",
      "        ]\n",
      "    },\n",
      "    \"result\": [\n",
      "        \"world\",\n",
      "        1\n",
      "    ],\n",
      "    \"__globals__\": {},\n",
      "    \"__func_globals__\": {}\n",
      "}\n"
     ]
    }
   ],
   "source": [
    "import ison\n",
    "from pathlib import Path\n",
    "\n",
    "dicData = {\n",
    "    # This loads the file 'demo.json' from the same folder.\n",
    "    # 'demo.json' contains this:\n",
    "    # {\n",
    "    #     \"hello\": [\"world\", 1]\n",
    "    # }\n",
    "    \"__locals__\": {\n",
    "        \"__includes__\": [\"demo\"],\n",
    "    },\n",
    "    \"result\": \"$hello\",\n",
    "}\n",
    "\n",
    "dicResult = ison.run.Run(xData=dicData, bStripVars=False, sImportPath=Path.cwd())\n",
    "print(ison.run.ToString(dicResult))"
   ]
  },
  {
   "cell_type": "markdown",
   "metadata": {},
   "source": [
    "Using a variable in an include path."
   ]
  },
  {
   "cell_type": "code",
   "execution_count": 7,
   "metadata": {},
   "outputs": [
    {
     "name": "stdout",
     "output_type": "stream",
     "text": [
      "{\n",
      "    \"__locals__\": {\n",
      "        \"path\": \"demo.json\"\n",
      "    },\n",
      "    \"data\": {\n",
      "        \"hello\": [\n",
      "            \"world\",\n",
      "            1\n",
      "        ]\n",
      "    },\n",
      "    \"__globals__\": {},\n",
      "    \"__func_globals__\": {}\n",
      "}\n"
     ]
    }
   ],
   "source": [
    "import ison\n",
    "from pathlib import Path\n",
    "\n",
    "dicData = {\n",
    "    \"__locals__\": {\n",
    "        \"path\": \"demo.json\",\n",
    "    },\n",
    "\n",
    "    \"data\": {\n",
    "        \"__includes__\": [\"$path\"],\n",
    "    },\n",
    "}\n",
    "\n",
    "dicResult = ison.run.Run(xData=dicData, bStripVars=False, sImportPath=Path.cwd())\n",
    "print(ison.run.ToString(dicResult))"
   ]
  },
  {
   "cell_type": "markdown",
   "metadata": {},
   "source": [
    "## Platform Dependent Dictionary\n",
    "\n",
    "Sometimes variables of parameters need to be specified depending on the current platform or machine the ISON file is processed on.\n",
    "This can be achieved with the `__platform__` element. The pseudo structure of platform dictionary is:\n",
    "\n",
    "```json\n",
    "{\n",
    "    \"__platform__\": {\n",
    "        \"[Windows|Linux]\": {\n",
    "            \"__data__\": {\n",
    "                // data for the respective system\n",
    "            },\n",
    "            \"[Node name]\": {\n",
    "                \"__data__\": {\n",
    "                    // data for node of respective operating system\n",
    "                }\n",
    "            }\n",
    "        }\n",
    "    }\n",
    "}\n",
    "```\n",
    "\n",
    "Elements defined in a `__data__` dictionary for a node overwrite elements defined in the `__data__` dictionary dor the operating system. \n",
    "These in turn overwrite elements in the parent dictionary of the `__platform__` key. In this way, you can either specify data for a specific \n",
    "operating system or even a specific node (computer) running this operating system. Note that if a `__data__` dictionary is defined for a node, the `__data__` dictionary for the operating system is optional.\n",
    "\n",
    "```{note}\n",
    "The platform element is processed before any other element of the dictionary. After it is processed, the whole platform dictionary is removed\n",
    "and won't appear in the result dictionary.\n",
    "```\n",
    "\n",
    "One use-case is specifying absolute data paths per machine. "
   ]
  },
  {
   "cell_type": "code",
   "execution_count": 8,
   "metadata": {},
   "outputs": [
    {
     "name": "stdout",
     "output_type": "stream",
     "text": [
      "{\n",
      "    \"__locals__\": {\n",
      "        \"path\": \"demo\"\n",
      "    },\n",
      "    \"result\": {\n",
      "        \"hello\": [\n",
      "            \"world\",\n",
      "            1\n",
      "        ]\n",
      "    },\n",
      "    \"__globals__\": {},\n",
      "    \"__func_globals__\": {}\n",
      "}\n"
     ]
    }
   ],
   "source": [
    "import ison\n",
    "\n",
    "dicData = {\n",
    "    \"__locals__\": {\n",
    "        # Default value for path\n",
    "        \"path\": \"unknown\",\n",
    "\n",
    "        \"__platform__\": {\n",
    "            \"Windows\": {\n",
    "                \"__data__\": {\n",
    "                    # default value for all windows machines\n",
    "                    \"path\": \"demo\",\n",
    "                },\n",
    "                \"my-laptop\": {\n",
    "                    \"__data__\": {\n",
    "                        # value for windows machine 'my-laptop'\n",
    "                        \"path\": \"C:/users/foo/my-data.json\"\n",
    "                    }\n",
    "                }\n",
    "            },\n",
    "            \"Linux\": {\n",
    "                \"__data__\": {\n",
    "                    # Default value for all Linux machines\n",
    "                    \"path\": \"demo2\",\n",
    "                },\n",
    "            }\n",
    "        }\n",
    "    },\n",
    "\n",
    "    \"result\": {\n",
    "        \"__includes__\": [\"$path\"]\n",
    "    }\n",
    "}\n",
    "\n",
    "dicResult = ison.run.Run(xData=dicData, bStripVars=False, sImportPath=Path.cwd())\n",
    "print(ison.run.ToString(dicResult))"
   ]
  },
  {
   "cell_type": "markdown",
   "metadata": {},
   "source": [
    "### Wildcards in Node Names\n",
    "\n",
    "The node names can also include wildcards:\n",
    "\n",
    "- `*`: any number of characters (also none)\n",
    "- `?`: exactly one character\n",
    "\n",
    "For example: "
   ]
  },
  {
   "cell_type": "code",
   "execution_count": 10,
   "metadata": {},
   "outputs": [
    {
     "name": "stdout",
     "output_type": "stream",
     "text": [
      "{\n",
      "    \"__locals__\": {\n",
      "        \"path\": \"demo\"\n",
      "    },\n",
      "    \"result\": {\n",
      "        \"hello\": [\n",
      "            \"world\",\n",
      "            1\n",
      "        ]\n",
      "    },\n",
      "    \"__globals__\": {},\n",
      "    \"__func_globals__\": {}\n",
      "}\n"
     ]
    }
   ],
   "source": [
    "import ison\n",
    "\n",
    "dicData = {\n",
    "    \"__locals__\": {\n",
    "        # Default value for path\n",
    "        \"path\": \"unknown\",\n",
    "\n",
    "        \"__platform__\": {\n",
    "            \"Windows\": {\n",
    "                \"__data__\": {\n",
    "                    # default value for all windows machines\n",
    "                    \"path\": \"demonstrate\",\n",
    "                },\n",
    "                \"??-C-*\": {\n",
    "                    \"__data__\": {\n",
    "                        # value for windows machine with name '??-C-*'\n",
    "                        \"path\": \"demo\"\n",
    "                    }\n",
    "                }\n",
    "            },\n",
    "            \"Linux\": {\n",
    "                \"__data__\": {\n",
    "                    # Default value for all Linux machines\n",
    "                    \"path\": \"demo2\",\n",
    "                },\n",
    "            }\n",
    "        }\n",
    "    },\n",
    "\n",
    "    \"result\": {\n",
    "        \"__includes__\": [\"$path\"]\n",
    "    }\n",
    "}\n",
    "\n",
    "dicResult = ison.run.Run(xData=dicData, bStripVars=False, sImportPath=Path.cwd())\n",
    "print(ison.run.ToString(dicResult))"
   ]
  },
  {
   "cell_type": "markdown",
   "metadata": {},
   "source": [
    "## Logging & Print Debugging\n",
    "\n",
    "Sometimes it is helpful to print the state of variables during parsing, or to log parsed values. This can be done with the functions `$print{}` and `$set-log-path{}`. If no logging path of file is defined with the latter, the former prints to stdout. If a path to a logging file is set, `$print{}` writes to the log file. \n"
   ]
  },
  {
   "cell_type": "code",
   "execution_count": 9,
   "metadata": {},
   "outputs": [
    {
     "name": "stdout",
     "output_type": "stream",
     "text": [
      "Variable 'dicA':\n",
      "{\n",
      "    \"Hello\": \"World\"\n",
      "}\n",
      "['Hello', 'World']\n",
      "{\n",
      "    \"result\": {\n",
      "        \"Hello\": \"World\"\n",
      "    }\n",
      "}\n"
     ]
    }
   ],
   "source": [
    "import ison\n",
    "\n",
    "dicData = {\n",
    "    \"__locals__\": {\n",
    "        \"lA\": [\"Hello\", \"World\"],\n",
    "        \"dicA\": { \"Hello\": \"World\" },\n",
    "        \"sLog\": \"$print{Variable 'dicA':, $json{$dicA}, $lA}\"\n",
    "    },\n",
    "    \"result\": \"$dicA\"\n",
    "}\n",
    "\n",
    "try:\n",
    "    dicResult = ison.run.Run(xData=dicData, bPrintWarnings=True)\n",
    "    print(ison.run.ToString(dicResult))\n",
    "\n",
    "except Exception as xEx:\n",
    "    print(str(xEx))\n",
    "# endtry"
   ]
  },
  {
   "cell_type": "markdown",
   "metadata": {},
   "source": [
    "You can set a logging path in three ways with `$set-log-path{}`:\n",
    "\n",
    "1. Without arguments the current working directory is used a logging path and a filename is automatically generated.\n",
    "2. Give a path without filename. In this case, a filename is automatically generated and the path is created.\n",
    "3. Give a full filepath. If the path does not exist, it is created.\n"
   ]
  },
  {
   "cell_type": "code",
   "execution_count": 10,
   "metadata": {},
   "outputs": [
    {
     "name": "stdout",
     "output_type": "stream",
     "text": [
      "{\n",
      "    \"result\": {\n",
      "        \"Hello\": \"World\"\n",
      "    }\n",
      "}\n"
     ]
    }
   ],
   "source": [
    "import ison\n",
    "\n",
    "dicData = {\n",
    "    \"__locals__\": {\n",
    "        \"sLogPath\": \"$set-log-path{}\",\n",
    "        \"dicA\": { \"Hello\": \"World\" },\n",
    "        \"sLog\": \"$print{Variable 'dicA':, $json{$dicA}, }\"\n",
    "    },\n",
    "    # Uncomment the following line to see the path of the log file\n",
    "    # in the printed output.\n",
    "    # \"log-path\": \"${sLogPath}\",\n",
    "    \"result\": \"$dicA\"\n",
    "}\n",
    "\n",
    "try:\n",
    "    dicResult = ison.run.Run(xData=dicData, bPrintWarnings=True)\n",
    "    print(ison.run.ToString(dicResult))\n",
    "\n",
    "except Exception as xEx:\n",
    "    print(str(xEx))\n",
    "# endtry"
   ]
  }
 ],
 "metadata": {
  "kernelspec": {
   "display_name": "Python 3.10.6 ('cath3')",
   "language": "python",
   "name": "python3"
  },
  "language_info": {
   "codemirror_mode": {
    "name": "ipython",
    "version": 3
   },
   "file_extension": ".py",
   "mimetype": "text/x-python",
   "name": "python",
   "nbconvert_exporter": "python",
   "pygments_lexer": "ipython3",
   "version": "3.10.10"
  },
  "orig_nbformat": 4,
  "vscode": {
   "interpreter": {
    "hash": "d144e52b91e679811e4cceb0036205285e180e4be0ba7d3643a3ec09e4fe9f87"
   }
  }
 },
 "nbformat": 4,
 "nbformat_minor": 2
}
