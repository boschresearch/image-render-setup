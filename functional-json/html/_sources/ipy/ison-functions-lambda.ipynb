{
 "cells": [
  {
   "cell_type": "markdown",
   "metadata": {},
   "source": [
    "# Lambda Function Handling"
   ]
  },
  {
   "cell_type": "markdown",
   "metadata": {},
   "source": [
    "## `L` - Define Lambda Function\n",
    "\n",
    "Defines a lambda function. The argument is not processed until the lambda function is executed, either via `${[func], [arg 1], ...}`, or explicit execution `$!{[func], [arg 1], ...}`. The latter has to be used, if the function is itself a lambda argument."
   ]
  },
  {
   "cell_type": "code",
   "execution_count": 1,
   "metadata": {},
   "outputs": [
    {
     "name": "stdout",
     "output_type": "stream",
     "text": [
      "{\n",
      "    \"result\": \"Hello Christian\"\n",
      "}\n"
     ]
    }
   ],
   "source": [
    "import ison\n",
    "\n",
    "dicData = {\n",
    "    \"__func_locals__\": {\n",
    "        \"func\": \"$L{Hello %0}\"\n",
    "    },\n",
    "\n",
    "    \"result\": \"${func, Christian}\"\n",
    "}\n",
    "\n",
    "dicResult = ison.run.Run(xData=dicData)\n",
    "print(ison.run.ToString(dicResult))\n"
   ]
  },
  {
   "cell_type": "markdown",
   "metadata": {},
   "source": [
    "## `L*` - Convert Structure to Lambda Function\n",
    "\n",
    "If the element that should become a lambda function is a dictionary or a list, you need to use this function."
   ]
  },
  {
   "cell_type": "code",
   "execution_count": 2,
   "metadata": {},
   "outputs": [
    {
     "name": "stdout",
     "output_type": "stream",
     "text": [
      "{\n",
      "    \"result\": {\n",
      "        \"a\": \"Hello Christian\"\n",
      "    }\n",
      "}\n"
     ]
    }
   ],
   "source": [
    "import ison\n",
    "\n",
    "dicData = {\n",
    "    \"__func_locals__\": {\n",
    "        \"def_func\": {\n",
    "            \"a\": \"Hello %0\"\n",
    "        },\n",
    "        \"func\": \"$L*{def_func}\"\n",
    "    },\n",
    "\n",
    "    \"result\": \"${func, Christian}\"\n",
    "}\n",
    "\n",
    "dicResult = ison.run.Run(xData=dicData)\n",
    "print(ison.run.ToString(dicResult))\n"
   ]
  },
  {
   "cell_type": "markdown",
   "metadata": {},
   "source": [
    "Note that this can also be achieved using the `__lambda__` tag inside the dictionary."
   ]
  },
  {
   "cell_type": "code",
   "execution_count": 3,
   "metadata": {},
   "outputs": [
    {
     "name": "stdout",
     "output_type": "stream",
     "text": [
      "{\n",
      "    \"result\": {\n",
      "        \"a\": \"Hello Christian\"\n",
      "    }\n",
      "}\n"
     ]
    }
   ],
   "source": [
    "import ison\n",
    "\n",
    "dicData = {\n",
    "    \"__func_locals__\": {\n",
    "        \"func\": {\n",
    "            \"__lambda__\": {},\n",
    "            \"a\": \"Hello %0\"\n",
    "        }\n",
    "    },\n",
    "\n",
    "    \"result\": \"${func, Christian}\"\n",
    "}\n",
    "\n",
    "dicResult = ison.run.Run(xData=dicData)\n",
    "print(ison.run.ToString(dicResult))\n"
   ]
  },
  {
   "cell_type": "markdown",
   "metadata": {},
   "source": [
    "## `!` - Explicit Lambda Function Execution\n",
    "\n",
    "If a lambda function wants to execute an argument again as lambda function, the explicit execution function `$!{}` has to be used. "
   ]
  },
  {
   "cell_type": "code",
   "execution_count": 6,
   "metadata": {},
   "outputs": [
    {
     "name": "stdout",
     "output_type": "stream",
     "text": [
      "{\n",
      "    \"result 1\": \"${$L{`%0, hello`}, Christian}\",\n",
      "    \"result 2\": \"Christian, hello\"\n",
      "}\n"
     ]
    }
   ],
   "source": [
    "import ison\n",
    "\n",
    "dicData = {\n",
    "    \"__func_locals__\": {\n",
    "        \"func_a\": \"$L{${%0, %1}}\",\n",
    "        \"func_b\": \"$L{$!{%0, %1}}\",\n",
    "        \"func_x\": \"$L{`%0, hello`}\"\n",
    "    },\n",
    "\n",
    "    \"result 1\": \"${func_a, $func_x, Christian}\",\n",
    "    \"result 2\": \"${func_b, $func_x, Christian}\"\n",
    "}\n",
    "\n",
    "dicResult = ison.run.Run(xData=dicData)\n",
    "print(ison.run.ToString(dicResult))\n"
   ]
  },
  {
   "cell_type": "markdown",
   "metadata": {},
   "source": [
    "## `!foreach` - Execute Lambda Function for Each Element\n",
    "\n",
    "`!*{}` is an alias of this function. \n",
    "\n",
    "This processes a lambda function for each given argument and returns the result in a list.\n"
   ]
  },
  {
   "cell_type": "code",
   "execution_count": 7,
   "metadata": {},
   "outputs": [
    {
     "name": "stdout",
     "output_type": "stream",
     "text": [
      "{\n",
      "    \"result\": [\n",
      "        \">1<\",\n",
      "        \">2<\"\n",
      "    ]\n",
      "}\n"
     ]
    }
   ],
   "source": [
    "import ison\n",
    "\n",
    "dicData = {\n",
    "    \"__func_locals__\": {\n",
    "        \"func\": \"$L{>%0<}\",\n",
    "    },\n",
    "\n",
    "    \"result\": \"$!foreach{$func, 1, 2}\",\n",
    "}\n",
    "\n",
    "dicResult = ison.run.Run(xData=dicData)\n",
    "print(ison.run.ToString(dicResult))\n"
   ]
  },
  {
   "cell_type": "markdown",
   "metadata": {},
   "source": [
    "To execute a lambda function for each element of a list, you need to unroll the list."
   ]
  },
  {
   "cell_type": "code",
   "execution_count": 8,
   "metadata": {},
   "outputs": [
    {
     "name": "stdout",
     "output_type": "stream",
     "text": [
      "{\n",
      "    \"result\": [\n",
      "        \">1<\",\n",
      "        \">2<\",\n",
      "        \">3<\"\n",
      "    ]\n",
      "}\n"
     ]
    }
   ],
   "source": [
    "import ison\n",
    "\n",
    "dicData = {\n",
    "    \"__func_locals__\": {\n",
    "        \"func\": \"$L{>%0<}\",\n",
    "    },\n",
    "\n",
    "    \"__locals__\": {\n",
    "        \"lA\": [1, 2, 3]\n",
    "    },\n",
    "\n",
    "    \"result\": \"$!foreach{$func, *$lA}\",\n",
    "}\n",
    "\n",
    "dicResult = ison.run.Run(xData=dicData)\n",
    "print(ison.run.ToString(dicResult))\n"
   ]
  },
  {
   "cell_type": "markdown",
   "metadata": {},
   "source": [
    "This can also be combined with the `$range{}` function."
   ]
  },
  {
   "cell_type": "code",
   "execution_count": 9,
   "metadata": {},
   "outputs": [
    {
     "name": "stdout",
     "output_type": "stream",
     "text": [
      "{\n",
      "    \"result\": [\n",
      "        \">0<\",\n",
      "        \">1<\",\n",
      "        \">2<\",\n",
      "        \">3<\",\n",
      "        \">4<\"\n",
      "    ]\n",
      "}\n"
     ]
    }
   ],
   "source": [
    "import ison\n",
    "\n",
    "dicData = {\n",
    "    \"__func_locals__\": {\n",
    "        \"func\": \"$L{>%0<}\",\n",
    "    },\n",
    "\n",
    "    \"__locals__\": {\n",
    "        \"lA\": [1, 2, 3]\n",
    "    },\n",
    "\n",
    "    \"result\": \"$!foreach{$func, *$range{5}}\",\n",
    "}\n",
    "\n",
    "dicResult = ison.run.Run(xData=dicData)\n",
    "print(ison.run.ToString(dicResult))\n"
   ]
  },
  {
   "cell_type": "markdown",
   "metadata": {},
   "source": [
    "If a number of arguments should be passed to each instance of the lambda function execution, you can specify tuples as follows,"
   ]
  },
  {
   "cell_type": "code",
   "execution_count": 10,
   "metadata": {},
   "outputs": [
    {
     "name": "stdout",
     "output_type": "stream",
     "text": [
      "{\n",
      "    \"result\": [\n",
      "        \"1: >a< - x\",\n",
      "        \"2: >b< - y\"\n",
      "    ]\n",
      "}\n"
     ]
    }
   ],
   "source": [
    "import ison\n",
    "\n",
    "dicData = {\n",
    "    \"__func_locals__\": {\n",
    "        \"func\": \"$L{%0: >%1< - %2}\",\n",
    "    },\n",
    "\n",
    "    \"result\": \"$!foreach{$func, (1, a, x), (2, b, y)}\",\n",
    "}\n",
    "\n",
    "dicResult = ison.run.Run(xData=dicData)\n",
    "print(ison.run.ToString(dicResult))\n"
   ]
  },
  {
   "cell_type": "markdown",
   "metadata": {},
   "source": [
    "This is actually used by the function `$enumerate{}` to generate tuples of list indices with list elements:"
   ]
  },
  {
   "cell_type": "code",
   "execution_count": 11,
   "metadata": {},
   "outputs": [
    {
     "name": "stdout",
     "output_type": "stream",
     "text": [
      "{\n",
      "    \"result\": [\n",
      "        \"0: >1<\",\n",
      "        \"1: >2<\",\n",
      "        \"2: >3<\"\n",
      "    ]\n",
      "}\n"
     ]
    }
   ],
   "source": [
    "import ison\n",
    "\n",
    "dicData = {\n",
    "    \"__func_locals__\": {\n",
    "        \"func\": \"$L{%0: >%1<}\",\n",
    "    },\n",
    "\n",
    "    \"__locals__\": {\n",
    "        \"lA\": [1, 2, 3]\n",
    "    },\n",
    "\n",
    "    \"result\": \"$!foreach{$func, *$enumerate{$lA}}\",\n",
    "}\n",
    "\n",
    "dicResult = ison.run.Run(xData=dicData)\n",
    "print(ison.run.ToString(dicResult))\n"
   ]
  },
  {
   "attachments": {},
   "cell_type": "markdown",
   "metadata": {},
   "source": [
    "In general, any number of lists can be combined to a list of grouped tuples using the  `$group{}` function:"
   ]
  },
  {
   "cell_type": "code",
   "execution_count": 12,
   "metadata": {},
   "outputs": [
    {
     "name": "stdout",
     "output_type": "stream",
     "text": [
      "{\n",
      "    \"result\": [\n",
      "        \"a: >1< - x\",\n",
      "        \"b: >2< - y\",\n",
      "        \"c: >3< - z\"\n",
      "    ]\n",
      "}\n"
     ]
    }
   ],
   "source": [
    "import ison\n",
    "\n",
    "dicData = {\n",
    "    \"__func_locals__\": {\n",
    "        \"func\": \"$L{%0: >%1< - %2}\",\n",
    "    },\n",
    "\n",
    "    \"__locals__\": {\n",
    "        \"lA\": [\"a\", \"b\", \"c\"],\n",
    "        \"lB\": [1, 2, 3],\n",
    "        \"lC\": [\"x\", \"y\", \"z\"]\n",
    "    },\n",
    "\n",
    "    \"result\": \"$!foreach{$func, *$group{$lA, $lB, $lC}}\",\n",
    "}\n",
    "\n",
    "dicResult = ison.run.Run(xData=dicData)\n",
    "print(ison.run.ToString(dicResult))\n"
   ]
  },
  {
   "attachments": {},
   "cell_type": "markdown",
   "metadata": {},
   "source": [
    "### Named Arguments\n",
    "\n",
    "For lambdas with named parameters there is a slightly different syntax to iterate over a list of parameters. Note that you cannot mix named and positional lambda arguments in a `$!foreach{}` call."
   ]
  },
  {
   "cell_type": "code",
   "execution_count": 13,
   "metadata": {},
   "outputs": [
    {
     "name": "stdout",
     "output_type": "stream",
     "text": [
      "{\n",
      "    \"result\": [\n",
      "        {\n",
      "            \"sKey\": \"a\",\n",
      "            \"iValue\": 1\n",
      "        },\n",
      "        {\n",
      "            \"sKey\": \"b\",\n",
      "            \"iValue\": 2\n",
      "        },\n",
      "        {\n",
      "            \"sKey\": \"c\",\n",
      "            \"iValue\": 3\n",
      "        }\n",
      "    ]\n",
      "}\n"
     ]
    }
   ],
   "source": [
    "import ison\n",
    "\n",
    "dicData = {\n",
    "    \"__func_globals__\": {\n",
    "        \"L_foo\": {\n",
    "            \"__lambda__\": {}, \n",
    "            \"sKey\": \"%sKey%\", \n",
    "            \"iValue\": \"%iValue%\"\n",
    "        },\n",
    "    },\n",
    "\n",
    "    \"__globals__\": {\n",
    "        \"lKeys\": [\"a\", \"b\", \"c\", \"d\"], \n",
    "        \"lValues\": [1, 2, 3],\n",
    "    },\n",
    "\n",
    "    \"result\": \"$!foreach{$L_foo, sKey=*$lKeys, iValue=*$lValues}\",\n",
    "}\n",
    "\n",
    "dicResult = ison.run.Run(xData=dicData)\n",
    "print(ison.run.ToString(dicResult))"
   ]
  },
  {
   "attachments": {},
   "cell_type": "markdown",
   "metadata": {},
   "source": [
    "You can also partially process with named arguments, which can be processed further at a later stage."
   ]
  },
  {
   "cell_type": "code",
   "execution_count": 14,
   "metadata": {},
   "outputs": [
    {
     "name": "stdout",
     "output_type": "stream",
     "text": [
      "{\n",
      "    \"result 1\": [\n",
      "        \"$L{$*{^{$S{sKey}: $S{%sKey%}, $S{iValue}: $S{$*{^1}}}}}\",\n",
      "        \"$L{$*{^{$S{sKey}: $S{%sKey%}, $S{iValue}: $S{$*{^2}}}}}\",\n",
      "        \"$L{$*{^{$S{sKey}: $S{%sKey%}, $S{iValue}: $S{$*{^3}}}}}\"\n",
      "    ],\n",
      "    \"result 2\": [\n",
      "        {\n",
      "            \"sKey\": \"a\",\n",
      "            \"iValue\": 1\n",
      "        },\n",
      "        {\n",
      "            \"sKey\": \"b\",\n",
      "            \"iValue\": 1\n",
      "        },\n",
      "        {\n",
      "            \"sKey\": \"c\",\n",
      "            \"iValue\": 1\n",
      "        },\n",
      "        {\n",
      "            \"sKey\": \"d\",\n",
      "            \"iValue\": 1\n",
      "        }\n",
      "    ]\n",
      "}\n"
     ]
    }
   ],
   "source": [
    "import ison\n",
    "\n",
    "dicData = {\n",
    "    \"__func_globals__\": {\n",
    "        \"L_foo\": {\n",
    "            \"__lambda__\": {}, \n",
    "            \"sKey\": \"%sKey%\", \n",
    "            \"iValue\": \"%iValue%\"\n",
    "        },\n",
    "    },\n",
    "\n",
    "    \"__globals__\": {\n",
    "        \"lKeys\": [\"a\", \"b\", \"c\", \"d\"], \n",
    "        \"lValues\": [1, 2, 3],\n",
    "        \"lPartial\": \"$!foreach{$L_foo, iValue=*$lValues}\"\n",
    "    },\n",
    "\n",
    "    \"result 1\": \"$lPartial\",\n",
    "    \"result 2\": \"$!foreach{${lPartial:0}, sKey=*$lKeys}\",\n",
    "}\n",
    "\n",
    "dicResult = ison.run.Run(xData=dicData)\n",
    "print(ison.run.ToString(dicResult))"
   ]
  },
  {
   "attachments": {},
   "cell_type": "markdown",
   "metadata": {},
   "source": [
    "If a number of unrolled lists of values are given, the number of iterations depend on the shortest list of values. However, if some named parameters are defined with single values, these values are repeated for all iterations."
   ]
  },
  {
   "cell_type": "code",
   "execution_count": 15,
   "metadata": {},
   "outputs": [
    {
     "name": "stdout",
     "output_type": "stream",
     "text": [
      "{\n",
      "    \"result\": [\n",
      "        {\n",
      "            \"sKey\": \"a\",\n",
      "            \"iValue\": 42\n",
      "        },\n",
      "        {\n",
      "            \"sKey\": \"b\",\n",
      "            \"iValue\": 42\n",
      "        },\n",
      "        {\n",
      "            \"sKey\": \"c\",\n",
      "            \"iValue\": 42\n",
      "        },\n",
      "        {\n",
      "            \"sKey\": \"d\",\n",
      "            \"iValue\": 42\n",
      "        }\n",
      "    ]\n",
      "}\n"
     ]
    }
   ],
   "source": [
    "import ison\n",
    "\n",
    "dicData = {\n",
    "    \"__func_globals__\": {\n",
    "        \"L_foo\": {\n",
    "            \"__lambda__\": {}, \n",
    "            \"sKey\": \"%sKey%\", \n",
    "            \"iValue\": \"%iValue%\"\n",
    "        },\n",
    "    },\n",
    "\n",
    "    \"__globals__\": {\n",
    "        \"lKeys\": [\"a\", \"b\", \"c\", \"d\"], \n",
    "        \"iValue\": 42\n",
    "    },\n",
    "\n",
    "    \"result\": \"$!foreach{$L_foo, sKey=*$lKeys, iValue=$iValue}\",\n",
    "}\n",
    "\n",
    "dicResult = ison.run.Run(xData=dicData)\n",
    "print(ison.run.ToString(dicResult))"
   ]
  },
  {
   "attachments": {},
   "cell_type": "markdown",
   "metadata": {},
   "source": [
    "You can also directly specify a list value that for-each iterates over for a specific named argument, by using the tuple notation `()`."
   ]
  },
  {
   "cell_type": "code",
   "execution_count": 16,
   "metadata": {},
   "outputs": [
    {
     "name": "stdout",
     "output_type": "stream",
     "text": [
      "{\n",
      "    \"result\": [\n",
      "        {\n",
      "            \"sKey\": \"a\",\n",
      "            \"iValue\": \"10\"\n",
      "        },\n",
      "        {\n",
      "            \"sKey\": \"b\",\n",
      "            \"iValue\": \"23\"\n",
      "        },\n",
      "        {\n",
      "            \"sKey\": \"c\",\n",
      "            \"iValue\": \"17\"\n",
      "        },\n",
      "        {\n",
      "            \"sKey\": \"d\",\n",
      "            \"iValue\": \"49\"\n",
      "        }\n",
      "    ]\n",
      "}\n"
     ]
    }
   ],
   "source": [
    "import ison\n",
    "\n",
    "dicData = {\n",
    "    \"__func_globals__\": {\n",
    "        \"L_foo\": {\n",
    "            \"__lambda__\": {}, \n",
    "            \"sKey\": \"%sKey%\", \n",
    "            \"iValue\": \"%iValue%\"\n",
    "        },\n",
    "    },\n",
    "\n",
    "    \"__globals__\": {\n",
    "        \"lKeys\": [\"a\", \"b\", \"c\", \"d\"], \n",
    "        \"iValue\": 42\n",
    "    },\n",
    "\n",
    "    \"result\": \"$!foreach{$L_foo, sKey=*$lKeys, iValue=(10, 23, 17, 49)}\",\n",
    "}\n",
    "\n",
    "dicResult = ison.run.Run(xData=dicData)\n",
    "print(ison.run.ToString(dicResult))"
   ]
  },
  {
   "cell_type": "markdown",
   "metadata": {},
   "source": [
    "## `!where` - Select with Lambda Condition\n",
    "\n",
    "`!?{}` is an alias of this function. \n",
    "\n",
    "Executes lambda function for each argument. Those arguments where the lambda function return `true` or a non-zero scalar, are added to the resultant list of elements.\n",
    "\n"
   ]
  },
  {
   "cell_type": "code",
   "execution_count": 17,
   "metadata": {},
   "outputs": [
    {
     "name": "stdout",
     "output_type": "stream",
     "text": [
      "{\n",
      "    \"result\": [\n",
      "        {\n",
      "            \"x\": 1,\n",
      "            \"y\": \"a\"\n",
      "        },\n",
      "        {\n",
      "            \"x\": 1,\n",
      "            \"y\": \"c\"\n",
      "        }\n",
      "    ]\n",
      "}\n"
     ]
    }
   ],
   "source": [
    "import ison\n",
    "\n",
    "dicData = {\n",
    "    \"__func_locals__\": {\n",
    "        # Compare the element 'x' of the first lambda parameter with '1'\n",
    "        # for equality. \n",
    "        \"func\": \"$L{$eq{${%0:x}, 1}}\",\n",
    "    },\n",
    "\n",
    "    \"__locals__\": {\n",
    "        \"lA\": [\n",
    "            { \"x\": 1, \"y\": \"a\" },\n",
    "            { \"x\": 2, \"y\": \"b\" },\n",
    "            { \"x\": 1, \"y\": \"c\" }\n",
    "        ]\n",
    "    },\n",
    "\n",
    "    # Select only those elements of lA, where the 'x' element is 1\n",
    "    \"result\": \"$!where{$func, *$lA}\",\n",
    "}\n",
    "\n",
    "dicResult = ison.run.Run(xData=dicData)\n",
    "print(ison.run.ToString(dicResult))\n"
   ]
  }
 ],
 "metadata": {
  "kernelspec": {
   "display_name": "Python 3",
   "language": "python",
   "name": "python3"
  },
  "language_info": {
   "codemirror_mode": {
    "name": "ipython",
    "version": 3
   },
   "file_extension": ".py",
   "mimetype": "text/x-python",
   "name": "python",
   "nbconvert_exporter": "python",
   "pygments_lexer": "ipython3",
   "version": "3.10.5"
  },
  "orig_nbformat": 4,
  "vscode": {
   "interpreter": {
    "hash": "2c867815f02d6d547742e80333a57bae67e7f3f81c15795b6b078248cf70d3f0"
   }
  }
 },
 "nbformat": 4,
 "nbformat_minor": 2
}
