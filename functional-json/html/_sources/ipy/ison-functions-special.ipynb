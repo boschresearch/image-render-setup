{
 "cells": [
  {
   "cell_type": "markdown",
   "metadata": {},
   "source": [
    "# Special Functions"
   ]
  },
  {
   "cell_type": "markdown",
   "metadata": {},
   "source": [
    "## `*` - Create Structure from String\n",
    "\n",
    "Convert the string argument to an object. Expects the string to be JSON parsable.\n",
    "\n"
   ]
  },
  {
   "cell_type": "code",
   "execution_count": 1,
   "metadata": {},
   "outputs": [
    {
     "name": "stdout",
     "output_type": "stream",
     "text": [
      "{\n",
      "    \"result\": {\n",
      "        \"a\": 1,\n",
      "        \"b\": 2\n",
      "    }\n",
      "}\n"
     ]
    }
   ],
   "source": [
    "import ison\n",
    "\n",
    "dicData = {\n",
    "    \"__locals__\": {\n",
    "        \"sA\": \"{ \\\"a\\\": 1, \\\"b\\\": 2 }\"\n",
    "    },\n",
    "\n",
    "    \"result\": \"$*{$sA}\",\n",
    "}\n",
    "\n",
    "dicResult = ison.run.Run(xData=dicData)\n",
    "print(ison.run.ToString(dicResult))\n"
   ]
  },
  {
   "attachments": {},
   "cell_type": "markdown",
   "metadata": {},
   "source": [
    "Instead of using the escaped quotes in the definition of `sA`, you can also use the backward quote (\\`) as in this example:"
   ]
  },
  {
   "cell_type": "code",
   "execution_count": 3,
   "metadata": {},
   "outputs": [
    {
     "name": "stdout",
     "output_type": "stream",
     "text": [
      "{\n",
      "    \"result\": {\n",
      "        \"a\": 1,\n",
      "        \"b\": 2\n",
      "    }\n",
      "}\n"
     ]
    }
   ],
   "source": [
    "import ison\n",
    "\n",
    "dicData = {\n",
    "    \"__locals__\": {\n",
    "        \"sA\": \"{ `a`: 1, `b`: 2 }\"\n",
    "    },\n",
    "\n",
    "    \"result\": \"$*{$sA}\",\n",
    "}\n",
    "\n",
    "dicResult = ison.run.Run(xData=dicData)\n",
    "print(ison.run.ToString(dicResult))\n"
   ]
  },
  {
   "attachments": {},
   "cell_type": "markdown",
   "metadata": {},
   "source": [
    "If you need to nest stings within string, you can use the function `$S{}`, which allows arbitrary deep nesting. "
   ]
  },
  {
   "cell_type": "code",
   "execution_count": 4,
   "metadata": {},
   "outputs": [
    {
     "name": "stdout",
     "output_type": "stream",
     "text": [
      "{\n",
      "    \"result\": {\n",
      "        \"a\": 1,\n",
      "        \"b\": \"{\\\"c\\\": 1}\"\n",
      "    }\n",
      "}\n"
     ]
    }
   ],
   "source": [
    "import ison\n",
    "\n",
    "dicData = {\n",
    "    \"__locals__\": {\n",
    "        \"sA\": \"{ $S{a}: 1, $S{b}: $S{{$S{c}: 1}} }\"\n",
    "    },\n",
    "\n",
    "    \"result\": \"$*{$sA}\",\n",
    "}\n",
    "\n",
    "dicResult = ison.run.Run(xData=dicData)\n",
    "print(ison.run.ToString(dicResult))\n"
   ]
  },
  {
   "cell_type": "markdown",
   "metadata": {},
   "source": [
    "## `print` - Print to Console or Log\n",
    "\n",
    "This function can help to debug ISON scripts, by printing out values to the console during parsing. If a log file path is set with the function `$set-log-path{}`, `$print{}` writes to this log file instead of the console. \n",
    "\n",
    "Each comma separated argument of the `$print{}` function prints to a new line.\n"
   ]
  },
  {
   "cell_type": "code",
   "execution_count": 2,
   "metadata": {},
   "outputs": [
    {
     "name": "stdout",
     "output_type": "stream",
     "text": [
      "Variable 'dicA':\n",
      "{\n",
      "    \"Hello\": \"World\"\n",
      "}\n",
      "['Hello', 'World']\n",
      "{\n",
      "    \"result\": {\n",
      "        \"Hello\": \"World\"\n",
      "    }\n",
      "}\n"
     ]
    }
   ],
   "source": [
    "import ison\n",
    "\n",
    "dicData = {\n",
    "    \"__locals__\": {\n",
    "        \"lA\": [\"Hello\", \"World\"],\n",
    "        \"dicA\": { \"Hello\": \"World\" },\n",
    "        \"sLog\": \"$print{Variable 'dicA':, $json{$dicA}, $lA}\"\n",
    "    },\n",
    "    \"result\": \"$dicA\"\n",
    "}\n",
    "\n",
    "dicResult = ison.run.Run(xData=dicData, bPrintWarnings=True)\n",
    "print(ison.run.ToString(dicResult))\n"
   ]
  },
  {
   "cell_type": "markdown",
   "metadata": {},
   "source": [
    "## `set-log-path` - Set Logging Path\n",
    "\n",
    "You can set a logging path in three ways with `$set-log-path{}`:\n",
    "\n",
    "1. Without arguments the current working directory is used a logging path and a filename is automatically generated.\n",
    "2. Give a path without filename. In this case, a filename is automatically generated and the path is created.\n",
    "3. Give a full filepath. If the path does not exist, it is created.\n"
   ]
  },
  {
   "cell_type": "code",
   "execution_count": 3,
   "metadata": {},
   "outputs": [
    {
     "name": "stdout",
     "output_type": "stream",
     "text": [
      "{\n",
      "    \"result\": {\n",
      "        \"Hello\": \"World\"\n",
      "    }\n",
      "}\n"
     ]
    }
   ],
   "source": [
    "import ison\n",
    "\n",
    "dicData = {\n",
    "    \"__locals__\": {\n",
    "        \"sLogPath\": \"$set-log-path{}\",\n",
    "        \"dicA\": { \"Hello\": \"World\" },\n",
    "        \"sLog\": \"$print{Variable 'dicA':, $json{$dicA}, }\"\n",
    "    },\n",
    "    # Uncomment the following line to see the path of the log file\n",
    "    # in the printed output.\n",
    "    # \"log-path\": \"${sLogPath}\",\n",
    "    \"result\": \"$dicA\"\n",
    "}\n",
    "\n",
    "try:\n",
    "    dicResult = ison.run.Run(xData=dicData, bPrintWarnings=True)\n",
    "    print(ison.run.ToString(dicResult))\n",
    "\n",
    "except Exception as xEx:\n",
    "    print(str(xEx))\n",
    "# endtry\n"
   ]
  },
  {
   "cell_type": "markdown",
   "metadata": {},
   "source": [
    "## `S` - String\n",
    "\n",
    "This function is mainly used internally when converting structures to lambda functions. Internally lambda functions are strings. To support arbitrarily nested string expressions the structure `$S{}` is used instead of double quotes.\n",
    "\n"
   ]
  },
  {
   "cell_type": "code",
   "execution_count": 2,
   "metadata": {},
   "outputs": [
    {
     "name": "stdout",
     "output_type": "stream",
     "text": [
      "{\n",
      "    \"result\": \"\\\"Hello \\\\\\\"Christian\\\\\\\"\\\"\"\n",
      "}\n"
     ]
    }
   ],
   "source": [
    "import ison\n",
    "\n",
    "dicData = {\n",
    "    \"result\": \"$S{Hello $S{Christian}}\",\n",
    "}\n",
    "\n",
    "dicResult = ison.run.Run(xData=dicData)\n",
    "print(ison.run.ToString(dicResult))\n"
   ]
  }
 ],
 "metadata": {
  "kernelspec": {
   "display_name": "Python 3.10.6 ('cath3')",
   "language": "python",
   "name": "python3"
  },
  "language_info": {
   "codemirror_mode": {
    "name": "ipython",
    "version": 3
   },
   "file_extension": ".py",
   "mimetype": "text/x-python",
   "name": "python",
   "nbconvert_exporter": "python",
   "pygments_lexer": "ipython3",
   "version": "3.10.5"
  },
  "orig_nbformat": 4,
  "vscode": {
   "interpreter": {
    "hash": "d144e52b91e679811e4cceb0036205285e180e4be0ba7d3643a3ec09e4fe9f87"
   }
  }
 },
 "nbformat": 4,
 "nbformat_minor": 2
}
