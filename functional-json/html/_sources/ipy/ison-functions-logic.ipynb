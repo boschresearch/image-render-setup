{
 "cells": [
  {
   "cell_type": "markdown",
   "metadata": {},
   "source": [
    "# Logic Functions"
   ]
  },
  {
   "cell_type": "markdown",
   "metadata": {},
   "source": [
    "## `and` - Logic AND\n",
    "\n",
    "Evaluate logic **AND** of the arguments. Must have at least two arguments. If more than two arguments are given, all are ANDed.\n"
   ]
  },
  {
   "cell_type": "code",
   "execution_count": 2,
   "metadata": {},
   "outputs": [
    {
     "name": "stdout",
     "output_type": "stream",
     "text": [
      "{\n",
      "    \"result\": false\n",
      "}\n"
     ]
    }
   ],
   "source": [
    "import ison\n",
    "\n",
    "dicData = {\n",
    "    \"__locals__\": {\n",
    "        \"lA\": [True, False, True]\n",
    "    },\n",
    "\n",
    "    \"result\": \"$and{*$lA}\"\n",
    "}\n",
    "\n",
    "dicResult = ison.run.Run(xData=dicData)\n",
    "print(ison.run.ToString(dicResult))\n"
   ]
  },
  {
   "cell_type": "markdown",
   "metadata": {},
   "source": [
    "## `eq` - Equal\n",
    "\n",
    "Test for equality of all arguments.\n"
   ]
  },
  {
   "cell_type": "code",
   "execution_count": 5,
   "metadata": {},
   "outputs": [
    {
     "name": "stdout",
     "output_type": "stream",
     "text": [
      "{\n",
      "    \"result a==a\": true,\n",
      "    \"result a==b\": false,\n",
      "    \"result list\": true\n",
      "}\n"
     ]
    }
   ],
   "source": [
    "import ison\n",
    "\n",
    "dicData = {\n",
    "    \"__locals__\": {\n",
    "        \"lA\": [1, 1.0, 1, 1]\n",
    "    },\n",
    "\n",
    "    \"result a==a\": \"$eq{a, a}\",\n",
    "    \"result a==b\": \"$eq{a, b}\",\n",
    "    \"result list\": \"$eq{*$lA}\"\n",
    "}\n",
    "\n",
    "dicResult = ison.run.Run(xData=dicData)\n",
    "print(ison.run.ToString(dicResult))\n"
   ]
  },
  {
   "cell_type": "markdown",
   "metadata": {},
   "source": [
    "## `if` - Conditional Parsing\n",
    "\n",
    "`$if{[condition], [true clause], [false clause]}`\n",
    "\n",
    "If the result of the parsing of the condition is true, the second argument is parsed and the result is returned. Otherwise, the second argument is parsed. Note that the true and false clauses are only parsed, after the appropriate condition has been evaluated. The respectively other argument is not parsed at all.\n"
   ]
  },
  {
   "cell_type": "code",
   "execution_count": 1,
   "metadata": {},
   "outputs": [
    {
     "name": "stdout",
     "output_type": "stream",
     "text": [
      "Hello\n",
      "Day\n",
      "{\n",
      "    \"result 1\": \"Hello\",\n",
      "    \"result 2\": \"Day\"\n",
      "}\n"
     ]
    }
   ],
   "source": [
    "import ison\n",
    "\n",
    "dicData = {\n",
    "   \n",
    "    # Since the condition is true, only the second argument is parsed,\n",
    "    # and therefore only 'Hello' is printed.\n",
    "    \"result 1\": \"$if{true, $print{Hello}, $print{World}}\",\n",
    "    \"result 2\": \"$if{false, $print{To}, $print{Day}}\"\n",
    "}\n",
    "\n",
    "dicResult = ison.run.Run(xData=dicData)\n",
    "print(ison.run.ToString(dicResult))\n"
   ]
  },
  {
   "cell_type": "markdown",
   "metadata": {},
   "source": [
    "## `not` - Logic NOT\n",
    "\n",
    "Evaluate logic **NOT** of the argument. Must have exactly 1 argument.\n"
   ]
  },
  {
   "cell_type": "code",
   "execution_count": 1,
   "metadata": {},
   "outputs": [
    {
     "name": "stdout",
     "output_type": "stream",
     "text": [
      "{\n",
      "    \"result\": {\n",
      "        \"iB\": true,\n",
      "        \"fB\": true,\n",
      "        \"bB\": true\n",
      "    }\n",
      "}\n"
     ]
    }
   ],
   "source": [
    "import ison\n",
    "\n",
    "dicData = {\n",
    "    \"__locals__\": {\n",
    "        \"iA\": 0, \"fA\": 0.0, \"bA\": False\n",
    "    },\n",
    "    \n",
    "    \"result\": {\"iB\": \"$not{$iA}\", \"fB\": \"$not{$fA}\", \"bB\": \"$not{$bA}\"},\n",
    "}\n",
    "\n",
    "dicResult = ison.run.Run(xData=dicData)\n",
    "print(ison.run.ToString(dicResult))\n"
   ]
  },
  {
   "cell_type": "markdown",
   "metadata": {},
   "source": [
    "## `or` - Logic OR\n",
    "\n",
    "Evaluate logic **OR** of the arguments. Must have at least two arguments. If more than two arguments are given, all are ORed.\n"
   ]
  },
  {
   "cell_type": "code",
   "execution_count": 3,
   "metadata": {},
   "outputs": [
    {
     "name": "stdout",
     "output_type": "stream",
     "text": [
      "{\n",
      "    \"result\": true\n",
      "}\n"
     ]
    }
   ],
   "source": [
    "import ison\n",
    "\n",
    "dicData = {\n",
    "    \"__locals__\": {\n",
    "        \"lA\": [True, False, True]\n",
    "    },\n",
    "\n",
    "    \"result\": \"$or{*$lA}\"\n",
    "}\n",
    "\n",
    "dicResult = ison.run.Run(xData=dicData)\n",
    "print(ison.run.ToString(dicResult))\n"
   ]
  }
 ],
 "metadata": {
  "kernelspec": {
   "display_name": "Python 3.10.6 ('cath3')",
   "language": "python",
   "name": "python3"
  },
  "language_info": {
   "codemirror_mode": {
    "name": "ipython",
    "version": 3
   },
   "file_extension": ".py",
   "mimetype": "text/x-python",
   "name": "python",
   "nbconvert_exporter": "python",
   "pygments_lexer": "ipython3",
   "version": "3.10.10"
  },
  "orig_nbformat": 4,
  "vscode": {
   "interpreter": {
    "hash": "d144e52b91e679811e4cceb0036205285e180e4be0ba7d3643a3ec09e4fe9f87"
   }
  }
 },
 "nbformat": 4,
 "nbformat_minor": 2
}
