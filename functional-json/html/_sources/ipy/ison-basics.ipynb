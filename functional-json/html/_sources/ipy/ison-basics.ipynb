{
 "cells": [
  {
   "cell_type": "markdown",
   "metadata": {},
   "source": [
    "# Getting Started\n",
    "\n",
    "The ISON language is a functional programming language that lives within the JSON or JSON5 syntax specification. That is, every ISON script file can be read as a standard JSON file. The ISON syntax only appears in strings within the JSON file. \n",
    "\n",
    "In the following, the basic language features of ISON are presented. You can copy paste the code and run it in an Jupyter Notebook or directly in a Python file.\n",
    "\n",
    ":::{note}\n",
    "If you have installed the module `functional-json`, you can run the ISON parser also from the command line with `ison`. For command line help, run `ison -h`.\n",
    ":::\n"
   ]
  },
  {
   "cell_type": "markdown",
   "metadata": {},
   "source": [
    "## Special ISON Statements\n",
    "\n",
    "All dictionary keys in a JSON file that start with double underscore \"`__`\" are treated as special language features. \n",
    "If they are not ISON language elements, they are either removed or are reported as error.\n",
    "\n",
    "| Key                | Value Type      | Description                                                                                                                                |\n",
    "| ------------------ | --------------- | ------------------------------------------------------------------------------------------------------------------------------------------ |\n",
    "| `__includes__`     | list of strings | List of relative/absolute file paths of files to include. <a href=\"./ison-advanced.html#including-files\">Go there...</a>                   |\n",
    "| `__lambda__`       | dictionary      | Indicates that the parent dictionary is a lambda function. See <a href=\"./ison-lambda.html#dictionary-lambdas\">Go there...</a>             |\n",
    "| `__global__`       | dictionary      | Global variabel definition                                                                                                                 |\n",
    "| `__locals__`       | dictionary      | Local variable definition                                                                                                                  |\n",
    "| `__func_globals__` | dictionary      | Global function variable definition                                                                                                        |\n",
    "| `__func_locals__`  | dictionary      | Local function variable definition                                                                                                         |\n",
    "| `__runtime_vars__` | dictionary      | Runtime variable definition                                                                                                                |\n",
    "| `__platform__`     | dictionary      | Modify dictionary depending on current hardware platform. <a href=\"./ison-advanced.html#platform-dependent-dictionary\">Go there...</a> |\n",
    "| `__data__`         | dictionary      | Only allowed inside `__platform__` dictionary or one of its' child dictionaries.                                                           |\n",
    "\n"
   ]
  },
  {
   "cell_type": "markdown",
   "metadata": {},
   "source": [
    "## Values\n",
    "\n",
    "As a first example, we will simply replace a value with another one. "
   ]
  },
  {
   "cell_type": "code",
   "execution_count": 1,
   "metadata": {},
   "outputs": [
    {
     "name": "stdout",
     "output_type": "stream",
     "text": [
      "{\n",
      "    \"value\": \"world\"\n",
      "}\n"
     ]
    }
   ],
   "source": [
    "import ison\n",
    "\n",
    "# First we define a dictionary of macro values that can be replaced.\n",
    "# When using the CML for Catharsys configuration files, this part is\n",
    "# done by Catharsys.\n",
    "dicVars = {\"hello\": \"world\"}\n",
    "\n",
    "# Now we define the dictionary that is processed.\n",
    "# This is your configuration json structure.\n",
    "dicData = {\"value\": \"$hello\"}\n",
    "\n",
    "dicResult = ison.run.Run(xData=dicData, dicConstVars=dicVars)\n",
    "\n",
    "print(ison.run.ToString(dicResult))"
   ]
  },
  {
   "cell_type": "markdown",
   "metadata": {},
   "source": [
    "Variables can be accessed in two ways:\n",
    "\n",
    "- Using the full syntax: `${variable}`\n",
    "- Using the variable syntax: `$variable`\n",
    "\n",
    "The full syntax will later be used to apply functions, as in `$sum{1, 2}`.\n",
    "\n",
    "If a variable is not found, this is not an error, but the element is just left as it is. This is done to enable parsing in mutliple stages, as more data becomes available.\n"
   ]
  },
  {
   "cell_type": "code",
   "execution_count": 2,
   "metadata": {},
   "outputs": [
    {
     "name": "stdout",
     "output_type": "stream",
     "text": [
      "{\n",
      "    \"value\": \"$hello\"\n",
      "}\n"
     ]
    }
   ],
   "source": [
    "dicData = {\"value\": \"$hello\"}\n",
    "\n",
    "dicResult = ison.run.Run(xData=dicData)\n",
    "print(ison.run.ToString(dicResult))"
   ]
  },
  {
   "cell_type": "markdown",
   "metadata": {},
   "source": [
    "## Variables\n",
    "\n",
    "You can define variables within a dictionary, which can be accessed by other parts of the dictionary. These variables can either be declared as local or global variables."
   ]
  },
  {
   "cell_type": "code",
   "execution_count": 3,
   "metadata": {},
   "outputs": [
    {
     "name": "stdout",
     "output_type": "stream",
     "text": [
      "{\n",
      "    \"mValues\": {\n",
      "        \"value\": \"today\"\n",
      "    },\n",
      "    \"value\": \"world\"\n",
      "}\n"
     ]
    }
   ],
   "source": [
    "dicData = {\n",
    "    \"__globals__\": {\n",
    "        \"hello\": \"world\",\n",
    "    },\n",
    "    \"mValues\": {\n",
    "        \"__locals__\": {\n",
    "            \"hello\": \"today\",\n",
    "        },\n",
    "        \"value\": \"$hello\",\n",
    "    },\n",
    "    \"value\": \"$hello\",\n",
    "}\n",
    "\n",
    "# Set 'bStripVars' to False, to see the variables dictionaries in the output.\n",
    "dicResult = ison.run.Run(xData=dicData, bStripVars=True)\n",
    "print(ison.run.ToString(dicResult))"
   ]
  },
  {
   "cell_type": "markdown",
   "metadata": {},
   "source": [
    "Local and global variables are evaluated first, before the remainder of the dictionary is processed. If you want to define variables that are executed every time they are referenced, you need to place the variables in `__func_globals__` or `__func_locals__`. For example,"
   ]
  },
  {
   "cell_type": "code",
   "execution_count": 4,
   "metadata": {},
   "outputs": [
    {
     "name": "stdout",
     "output_type": "stream",
     "text": [
      "{\n",
      "    \"__func_globals__\": {\n",
      "        \"fRand\": \"$rand.uniform{0, 1}\"\n",
      "    },\n",
      "    \"__globals__\": {\n",
      "        \"fA\": 0.9907603148150335,\n",
      "        \"fA2\": 0.9907603148150335,\n",
      "        \"fB\": 0.7556173456393716\n",
      "    },\n",
      "    \"fA2\": 0.9907603148150335,\n",
      "    \"fA\": 0.9907603148150335,\n",
      "    \"fB\": 0.7556173456393716,\n",
      "    \"fC\": 0.038020755108450044\n",
      "}\n"
     ]
    }
   ],
   "source": [
    "dicData = {\n",
    "    \"__func_globals__\": {\n",
    "        # This variables will calculate a uniformly distributed random variable\n",
    "        \"fRand\": \"$rand.uniform{0, 1}\",\n",
    "    },\n",
    "    \"__globals__\": {\n",
    "        \"fA\": \"$fRand\",\n",
    "        \"fA2\": \"$fA\",\n",
    "        \"fB\": \"$fRand\",\n",
    "    },\n",
    "    \"fA2\": \"$fA2\",\n",
    "    \"fA\": \"$fA\",\n",
    "    \"fB\": \"$fB\",\n",
    "    \"fC\": \"$fRand\",\n",
    "}\n",
    "\n",
    "dicResult = ison.run.Run(xData=dicData, bStripVars=False)\n",
    "print(ison.run.ToString(dicResult))"
   ]
  },
  {
   "cell_type": "markdown",
   "metadata": {},
   "source": [
    "Here, the variables `fA` and  `fB` are evaluated first, before the elements outside the variable dictionaries. `fC` executes the function referenced by `fRand` again, since `fRand` is not pre-evaluated."
   ]
  },
  {
   "cell_type": "markdown",
   "metadata": {},
   "source": [
    "## Lists and Dictionaries\n",
    "\n",
    "Lists and dictionaries are defined in the standard JSON way, with `[]` and `{}`, respectively. Elements of lists and dictionaries are both accessed using the colon operator `:`. Here is an exampe,"
   ]
  },
  {
   "cell_type": "code",
   "execution_count": 6,
   "metadata": {},
   "outputs": [
    {
     "name": "stdout",
     "output_type": "stream",
     "text": [
      "{\n",
      "    \"__globals__\": {\n",
      "        \"lA\": [\n",
      "            1,\n",
      "            2,\n",
      "            3\n",
      "        ],\n",
      "        \"mB\": {\n",
      "            \"a\": 1,\n",
      "            \"b\": 2\n",
      "        }\n",
      "    },\n",
      "    \"fA\": 2,\n",
      "    \"fB\": 2,\n",
      "    \"__func_globals__\": {}\n",
      "}\n"
     ]
    }
   ],
   "source": [
    "import ison\n",
    "\n",
    "dicData = {\n",
    "    \"__globals__\": {\n",
    "        # Define a list of values\n",
    "        \"lA\": [1, 2, 3],\n",
    "        # Define a dictionary of values\n",
    "        \"mB\": {\n",
    "            \"a\": 1,\n",
    "            \"b\": 2,\n",
    "        },\n",
    "    },\n",
    "    \n",
    "    # Pick the second value from the list\n",
    "    \"fA\": \"${lA:1}\",\n",
    "    # Pick element 'b' from the dictionary\n",
    "    \"fB\": \"${mB:b}\",\n",
    "}\n",
    "\n",
    "dicResult = ison.run.Run(xData=dicData, bStripVars=False)\n",
    "print(ison.run.ToString(dicResult))"
   ]
  },
  {
   "cell_type": "markdown",
   "metadata": {},
   "source": [
    "You can also use the colon operator for nested objects, as shown in the next example."
   ]
  },
  {
   "cell_type": "code",
   "execution_count": 5,
   "metadata": {},
   "outputs": [
    {
     "name": "stdout",
     "output_type": "stream",
     "text": [
      "{\n",
      "    \"__globals__\": {\n",
      "        \"mB\": {\n",
      "            \"lU\": [\n",
      "                1,\n",
      "                2,\n",
      "                3\n",
      "            ],\n",
      "            \"mX\": {\n",
      "                \"lA\": [\n",
      "                    1,\n",
      "                    2,\n",
      "                    3\n",
      "                ],\n",
      "                \"lB\": [\n",
      "                    4,\n",
      "                    5,\n",
      "                    6\n",
      "                ]\n",
      "            }\n",
      "        }\n",
      "    },\n",
      "    \"fA\": 2,\n",
      "    \"__func_globals__\": {}\n",
      "}\n"
     ]
    }
   ],
   "source": [
    "import ison\n",
    "\n",
    "dicData = {\n",
    "    \"__globals__\": {\n",
    "        # Define a dictionary of structured values\n",
    "        \"mB\": {\n",
    "            \"lU\": [1, 2, 3],\n",
    "            \"mX\": {\n",
    "                \"lA\": [1, 2, 3],\n",
    "                \"lB\": [4, 5, 6],\n",
    "            },\n",
    "        },\n",
    "    },\n",
    "    \n",
    "    # Pick a nested value\n",
    "    \"fA\": \"${mB:mX:lA:1}\",\n",
    "}\n",
    "\n",
    "dicResult = ison.run.Run(xData=dicData, bStripVars=False)\n",
    "print(ison.run.ToString(dicResult))"
   ]
  },
  {
   "cell_type": "markdown",
   "metadata": {},
   "source": [
    "## Functions\n",
    "\n",
    "ISON defines a number of functions that you can call with the syntax\n",
    "```json\n",
    "    \"$func{arg1, arg2, [...]}\"\n",
    "```\n",
    "where `func` is the function name and `arg1`, `arg2`, etc. are the function arguments. Just as with variables, the function expression will be replaced by the result of the function. If the function call is the only element in the JSON string, then the whole string is replaced by the function result. For example, if the function results in a list, then the string with the function call is replaced by the list.\n",
    "\n",
    "Here is an example:"
   ]
  },
  {
   "cell_type": "code",
   "execution_count": 5,
   "metadata": {},
   "outputs": [
    {
     "name": "stdout",
     "output_type": "stream",
     "text": [
      "{\n",
      "    \"result\": [\n",
      "        0,\n",
      "        1,\n",
      "        2\n",
      "    ],\n",
      "    \"__globals__\": {},\n",
      "    \"__func_globals__\": {}\n",
      "}\n"
     ]
    }
   ],
   "source": [
    "import ison\n",
    "\n",
    "dicData = {\n",
    "    \"result\": \"$range{3}\",\n",
    "}\n",
    " \n",
    "dicResult = ison.run.Run(xData=dicData, bStripVars=True)\n",
    "print(ison.run.ToString(dicResult))"
   ]
  },
  {
   "cell_type": "markdown",
   "metadata": {},
   "source": [
    "Functions can also be nested, as in this example,"
   ]
  },
  {
   "cell_type": "code",
   "execution_count": 1,
   "metadata": {},
   "outputs": [
    {
     "name": "stdout",
     "output_type": "stream",
     "text": [
      "{\n",
      "    \"result\": [\n",
      "        2,\n",
      "        1,\n",
      "        0\n",
      "    ]\n",
      "}\n"
     ]
    }
   ],
   "source": [
    "import ison\n",
    "\n",
    "dicData = {\n",
    "    \"result\": \"$sort{$range{3}, true}\",\n",
    "}\n",
    " \n",
    "dicResult = ison.run.Run(xData=dicData, bStripVars=True)\n",
    "print(ison.run.ToString(dicResult))"
   ]
  },
  {
   "cell_type": "markdown",
   "metadata": {},
   "source": [
    "### Unrolling Arguments\n",
    "\n",
    "Lists can also be \"unrolled\" as function arguments, so that each list element becomes one function argument. This can be done by prepending the argument that is to be unrolled with a \"`*`\", as in this example."
   ]
  },
  {
   "cell_type": "code",
   "execution_count": 5,
   "metadata": {},
   "outputs": [
    {
     "name": "stdout",
     "output_type": "stream",
     "text": [
      "[0, 1, 2]\n",
      "0\n",
      "1\n",
      "2\n",
      "Sum of [0, 1, 2]: 3\n"
     ]
    }
   ],
   "source": [
    "import ison\n",
    "\n",
    "dicData = {\n",
    "    # This prints a list of numbers\n",
    "    \"result 1\": \"$print{$range{3}}\",\n",
    "    # This prints three lines each with one element of the list\n",
    "    \"result 2\": \"$print{*$range{3}}\",\n",
    "    # This calculates the sum of all list elements\n",
    "    \"sum\": \"$print{Sum of $range{3}: $sum{*$range{3}}}\",\n",
    "}\n",
    " \n",
    "dicResult = ison.run.Run(xData=dicData, bStripVars=True)\n",
    "# print(ison.run.ToString(dicResult))"
   ]
  },
  {
   "cell_type": "markdown",
   "metadata": {},
   "source": [
    "### Literal arguments\n",
    "\n",
    "Sometimes it is helpful to pass an argument to a function without processing the argument before the function sees it. This is done by using a \"`^`\" as first element of an argument."
   ]
  },
  {
   "cell_type": "code",
   "execution_count": 12,
   "metadata": {},
   "outputs": [
    {
     "name": "stdout",
     "output_type": "stream",
     "text": [
      "Sum of $range{3}: $sum{*$range{3}}\n",
      "Sum of $range{3}:\n",
      "3\n"
     ]
    }
   ],
   "source": [
    "import ison\n",
    "\n",
    "dicData = {\n",
    "    # Make the whole argument to print a literal argument which is not parsed\n",
    "    # before it is passed to the function.\n",
    "    \"literal\": \"$print{^Sum of $range{3}: $sum{*$range{3}}}\",\n",
    "    # Split it into two arguments (and use the default separator \", \"). The\n",
    "    # first argument is a literal string, the second is a parsed value.\n",
    "    \"sum\": \"$print{^Sum of $range{3}:, $sum{*$range{3}}}\",\n",
    "}\n",
    " \n",
    "dicResult = ison.run.Run(xData=dicData, bStripVars=True)\n",
    "# print(ison.run.ToString(dicResult))"
   ]
  },
  {
   "cell_type": "markdown",
   "metadata": {},
   "source": [
    "### Tuples\n",
    "\n",
    "Some functions, like the `!foreach` function, can process tuple arguments (see <a href=\"./ison-functions-lambda.html#foreach-execute-lambda-function-for-each-elementdocumentation\">documentation</a>). These can be defined using \"`()`\". Note that this is only possible as an argument of a function. Tuples cannot be defined as separate variables. The function `$group{}` returns a list of tuples, that can be unrolled and used in the `!foreach` function, to call a lambda function repeatedly with a set of values. Tuples are converted to lists when they are the final result of a function and need to be embedded in JSON."
   ]
  },
  {
   "cell_type": "code",
   "execution_count": 18,
   "metadata": {},
   "outputs": [
    {
     "name": "stdout",
     "output_type": "stream",
     "text": [
      "[(0, 3), (1, 4), (2, 5)]\n"
     ]
    }
   ],
   "source": [
    "import ison\n",
    "\n",
    "dicData = {\n",
    "    \"result\": \"$print{$group{$range{3}, $range{3,5}}}\"\n",
    "}\n",
    " \n",
    "dicResult = ison.run.Run(xData=dicData, bStripVars=True)\n",
    "# print(ison.run.ToString(dicResult))"
   ]
  },
  {
   "cell_type": "markdown",
   "metadata": {},
   "source": [
    "## Strings\n",
    "\n",
    "All ISON commands are contained in a string within a JSON file. Therefore, all arguments you pass to an ISON function are strings, which may be transformed to a numerical value, if the function expects a number. However, sometimes the formatting of a string conflicts with the syntax of an ISON function. For example, if you want to print a text with the `$print{}` function that contains a comma, then ISON would interpret this as two parameters passed to the function. In this case, you need to enclose the string you want to print either in single quotes `'` or single backward quotes. \n",
    "\n",
    "The single quotes ensure that everything between them is regarded as a single string. However, the quotes themselves are also part of that string. With backquotes, however, the quotes are stripped from the string before it is passed into the function.\n",
    "\n",
    "Here is an example."
   ]
  },
  {
   "cell_type": "code",
   "execution_count": 2,
   "metadata": {},
   "outputs": [
    {
     "name": "stdout",
     "output_type": "stream",
     "text": [
      "1. Hello World\n",
      "2. Hello\n",
      "World!\n",
      "'3. Hello, World!'\n",
      "4. Hello, World!\n"
     ]
    }
   ],
   "source": [
    "import ison\n",
    "\n",
    "dicData = {\n",
    "    # The single parameter of the function is just a string\n",
    "    \"_1\": \"$print{1. Hello World}\",\n",
    "    # The comma here, is interpreted as a separator between parameters.\n",
    "    # If multiple parameters are given, each is printed on a new line.\n",
    "    \"_2\": \"$print{2. Hello, World!}\",\n",
    "    # Enclosing the string in single quotes, will prevent the comma from\n",
    "    # being interpreted as a separator. However, the single quotes will\n",
    "    # also be printed.\n",
    "    \"_3\": \"$print{'3. Hello, World!'}\",\n",
    "    # Enclosing the string in backticks, will prevent the comma from\n",
    "    # being interpreted as a separator. The backticks will not be printed.\n",
    "    # In fact, after interpreting everything between the backticks as a single\n",
    "    # parameter, the backticks are stripped from the parameter.\n",
    "    # The function then only receives the string 'Hello, World!' as a parameter, without quotes.\n",
    "    \"_4\": \"$print{`4. Hello, World!`}\",\n",
    "}\n",
    "\n",
    "dicResult = ison.run.Run(xData=dicData, bStripVars=False)\n",
    "# print(ison.run.ToString(dicResult))"
   ]
  }
 ],
 "metadata": {
  "kernelspec": {
   "display_name": "Python 3.10.6 ('cath3')",
   "language": "python",
   "name": "python3"
  },
  "language_info": {
   "codemirror_mode": {
    "name": "ipython",
    "version": 3
   },
   "file_extension": ".py",
   "mimetype": "text/x-python",
   "name": "python",
   "nbconvert_exporter": "python",
   "pygments_lexer": "ipython3",
   "version": "3.10.10"
  },
  "orig_nbformat": 4,
  "vscode": {
   "interpreter": {
    "hash": "d144e52b91e679811e4cceb0036205285e180e4be0ba7d3643a3ec09e4fe9f87"
   }
  }
 },
 "nbformat": 4,
 "nbformat_minor": 2
}
