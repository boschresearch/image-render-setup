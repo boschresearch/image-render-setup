{
 "cells": [
  {
   "cell_type": "markdown",
   "metadata": {},
   "source": [
    "# AnyBase Functions"
   ]
  },
  {
   "cell_type": "markdown",
   "metadata": {},
   "source": [
    "## `import` - Import a configuration file\n",
    "\n",
    "`$import{[filename], [expected DTI]}`\n",
    "\n",
    "Import a JSON configuration file. If the second parameter is given, it specifies the expected DTI of the configuration file.\n",
    "\n",
    "```{Important}\n",
    "This function caches the files' data for the lifetime of the Python interpreter instance. \n",
    "This is meant to speed up parsing of large configurations with many imports.\n",
    "Do NOT use this function for reading data files whose content may change during the lifetime of the Python session.\n",
    "```\n",
    "\n",
    "Related:\n",
    "\n",
    "- `__includes__`: This is a language feature of the default ISON parser. It can be used instead of `$import{}`. \n",
    "    The advantage of this language feature is that it updates the enclosing dictionary with the dictionary loaded. \n",
    "    For example, it can be used directely as elememt of a `__globals__` element to load additional variable definitions.\n",
    "    See {external+functional-json:doc}`ipy/ison-advanced`.\n",
    "- `$read{}`: Function of default ISON parser to load a text or JSON file. See {external+functional-json:doc}`ipy/ison-functions-file`\n",
    "\n"
   ]
  },
  {
   "cell_type": "code",
   "execution_count": 2,
   "metadata": {},
   "outputs": [
    {
     "name": "stdout",
     "output_type": "stream",
     "text": [
      "{\"result\": {\"sDTI\": \"/catharsys/test:1.0\", \"hello\": \"world\", \"sId\": \"cfg\"}}\n"
     ]
    }
   ],
   "source": [
    "from pathlib import Path\n",
    "from ison.util import text, data\n",
    "\n",
    "# The 'CAnyCML' class is just a wrapper for ison.Parser,\n",
    "# which adds more functions to the parser.\n",
    "from anybase.cls_anycml import CAnyCML\n",
    "\n",
    "dicData = {\n",
    "    # The second parameter specifies the expected DTI.\n",
    "    # If the DTI string does not start with a '/', \n",
    "    # a '/catharsys/' is added to the front.\n",
    "    \"result\": \"$import{cfg.json, test:1}\"\n",
    "}\n",
    "\n",
    "xParser = CAnyCML()\n",
    "dicResult = xParser.Process(dicData, sImportPath=Path.cwd())\n",
    "print(text.ToString(data.StripVarsFromData(dicResult)))\n"
   ]
  },
  {
   "cell_type": "markdown",
   "metadata": {},
   "source": [
    "## `json` - Create a JSON string from data\n",
    "\n",
    "`$json{[data object]}`\n",
    "\n",
    "This function converts any data objects to a JSON string."
   ]
  },
  {
   "cell_type": "code",
   "execution_count": 3,
   "metadata": {},
   "outputs": [
    {
     "name": "stdout",
     "output_type": "stream",
     "text": [
      "{\"result\": \"{\\\"a\\\":1,\\\"b\\\":2}\"}\n"
     ]
    }
   ],
   "source": [
    "from pathlib import Path\n",
    "from ison.util import text, data\n",
    "\n",
    "# The 'CAnyCML' class is just a wrapper for ison.Parser,\n",
    "# which adds more functions to the parser.\n",
    "from anybase.cls_anycml import CAnyCML\n",
    "\n",
    "dicData = {\n",
    "    \"__globals__\": {\n",
    "        \"dicA\": {\n",
    "            \"a\": 1,\n",
    "            \"b\": 2\n",
    "        }\n",
    "    },\n",
    "     \n",
    "    \"result\": \"$json{$dicA}\"\n",
    "}\n",
    "\n",
    "xParser = CAnyCML()\n",
    "dicResult = xParser.Process(dicData, sImportPath=Path.cwd())\n",
    "print(text.ToString(data.StripVarsFromData(dicResult)))\n"
   ]
  },
  {
   "cell_type": "markdown",
   "metadata": {},
   "source": [
    "## `py` - Execute a python command\n",
    "\n",
    "`$py{[python expression]}`\n",
    "\n",
    "This function interprets the string passed to it as a python expression and evaluates it with the python `eval()` command. \n",
    "\n",
    "```{Important}\n",
    "There are no checks on the code itself. So be careful parsing files from sources you don't trust.\n",
    "```\n",
    "\n",
    "The python evaluation imports the modules:\n",
    "\n",
    "- `random` as `rnd` and `random`\n",
    "- `numpy` as `np` and `numpy`\n",
    "\n",
    "All variables available to the ISON parser are also made available in the dictionary variable `dicVar`. \n",
    "The result of the python evaluation replaces the command."
   ]
  },
  {
   "cell_type": "code",
   "execution_count": 5,
   "metadata": {},
   "outputs": [
    {
     "name": "stdout",
     "output_type": "stream",
     "text": [
      "{\"result\": [0, 1, 2, 3, 4, 5, 6, 7, 8, 9]}\n"
     ]
    }
   ],
   "source": [
    "from pathlib import Path\n",
    "from ison.util import text, data\n",
    "\n",
    "# The 'CAnyCML' class is just a wrapper for ison.Parser,\n",
    "# which adds more functions to the parser.\n",
    "from anybase.cls_anycml import CAnyCML\n",
    "\n",
    "dicData = {\n",
    "    \"__globals__\": {\n",
    "        \"iCnt\": 10\n",
    "    },\n",
    "     \n",
    "    \"result\": \"$py{list(range($iCnt))}\"\n",
    "}\n",
    "\n",
    "xParser = CAnyCML()\n",
    "dicResult = xParser.Process(dicData, sImportPath=Path.cwd())\n",
    "print(text.ToString(data.StripVarsFromData(dicResult)))"
   ]
  },
  {
   "cell_type": "code",
   "execution_count": 3,
   "metadata": {},
   "outputs": [
    {
     "name": "stdout",
     "output_type": "stream",
     "text": [
      "{\n",
      "    \"result\": [\n",
      "        \"@loc\",\n",
      "        \"@loc-eval\",\n",
      "        \"@loc-s\",\n",
      "        \"@loc-eval-s\",\n",
      "        \"@glo\",\n",
      "        \"@glo-eval\",\n",
      "        \"@func-loc\",\n",
      "        \"@func-loc-s\",\n",
      "        \"@func-glo\",\n",
      "        \"@rtv\",\n",
      "        \"@rtv-eval\",\n",
      "        \"@func-storage\",\n",
      "        \"@top\"\n",
      "    ],\n",
      "    \"result2\": {\n",
      "        \"iCnt\": 10\n",
      "    }\n",
      "}\n"
     ]
    }
   ],
   "source": [
    "from pathlib import Path\n",
    "from ison.util import text, data\n",
    "\n",
    "# The 'CAnyCML' class is just a wrapper for ison.Parser,\n",
    "# which adds more functions to the parser.\n",
    "from anybase.cls_anycml import CAnyCML\n",
    "\n",
    "dicData = {\n",
    "    \"__globals__\": {\n",
    "        \"iCnt\": 10\n",
    "    },\n",
    "     \n",
    "    \"result\": \"$py{list(dicVar.keys())}\",\n",
    "    \"result2\": \"$py{dicVar['@glo']}\"\n",
    "}\n",
    "\n",
    "xParser = CAnyCML()\n",
    "dicResult = xParser.Process(dicData, sImportPath=Path.cwd())\n",
    "print(text.ToString(data.StripVarsFromData(dicResult), iIndent=4))"
   ]
  }
 ],
 "metadata": {
  "kernelspec": {
   "display_name": "Python 3.10.6 ('cath3')",
   "language": "python",
   "name": "python3"
  },
  "language_info": {
   "codemirror_mode": {
    "name": "ipython",
    "version": 3
   },
   "file_extension": ".py",
   "mimetype": "text/x-python",
   "name": "python",
   "nbconvert_exporter": "python",
   "pygments_lexer": "ipython3",
   "version": "3.10.10"
  },
  "vscode": {
   "interpreter": {
    "hash": "d144e52b91e679811e4cceb0036205285e180e4be0ba7d3643a3ec09e4fe9f87"
   }
  }
 },
 "nbformat": 4,
 "nbformat_minor": 2
}